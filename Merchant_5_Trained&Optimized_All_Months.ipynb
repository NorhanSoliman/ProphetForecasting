{
 "cells": [
  {
   "cell_type": "markdown",
   "id": "0e547f41",
   "metadata": {},
   "source": [
    "## Demand Forecasting Pipeline\n",
    "Setting up basics for forecasting pipeline"
   ]
  },
  {
   "cell_type": "code",
   "execution_count": 1,
   "id": "732d0b64",
   "metadata": {},
   "outputs": [
    {
     "name": "stderr",
     "output_type": "stream",
     "text": [
      "c:\\Users\\Nourhan\\AppData\\Local\\Programs\\Python\\Python311\\Lib\\site-packages\\tqdm\\auto.py:21: TqdmWarning: IProgress not found. Please update jupyter and ipywidgets. See https://ipywidgets.readthedocs.io/en/stable/user_install.html\n",
      "  from .autonotebook import tqdm as notebook_tqdm\n",
      "Importing plotly failed. Interactive plots will not work.\n"
     ]
    }
   ],
   "source": [
    "import numpy as np\n",
    "import pandas as pd\n",
    "import pandasql as ps\n",
    "import math\n",
    "import itertools \n",
    "\n",
    "#matplotlib libraries\n",
    "import matplotlib.pyplot as plt\n",
    "import matplotlib.cm as cm\n",
    "import matplotlib.colors\n",
    "import seaborn as sns\n",
    "\n",
    "#date libraries\n",
    "from dateutil import parser\n",
    "from datetime import datetime, timedelta, date\n",
    "import holidays\n",
    "\n",
    "#prophet library\n",
    "from prophet import Prophet\n",
    "from prophet.diagnostics import performance_metrics\n",
    "from prophet.plot import plot_cross_validation_metric\n",
    "from prophet.diagnostics import cross_validation\n",
    "\n",
    "#pandas options\n",
    "pd.set_option('display.float_format', lambda x: '%.2f' % x)\n",
    "pd.set_option('display.max_columns', None)\n",
    "pd.set_option('display.max_rows', None)\n",
    "\n",
    "#matplotlib setting defaults\n",
    "sns.set(font=\"Arial\",\n",
    "        rc={\n",
    " \"axes.axisbelow\": False,\n",
    " \"axes.edgecolor\": \"lightgrey\",\n",
    " \"axes.facecolor\": \"None\",\n",
    " \"axes.grid\": False,\n",
    " \"axes.labelcolor\": \"dimgrey\",\n",
    " \"axes.spines.right\": False,\n",
    " \"axes.spines.top\": False,\n",
    " \"figure.facecolor\": \"white\",\n",
    " \"lines.solid_capstyle\": \"round\",\n",
    " \"patch.edgecolor\": \"w\",\n",
    " \"patch.force_edgecolor\": True,\n",
    " \"text.color\": \"dimgrey\",\n",
    " \"xtick.bottom\": False,\n",
    " \"xtick.color\": \"dimgrey\",\n",
    " \"xtick.direction\": \"out\",\n",
    " \"xtick.top\": False,\n",
    " \"ytick.color\": \"dimgrey\",\n",
    " \"ytick.direction\": \"out\",\n",
    " \"ytick.left\": False,\n",
    " \"ytick.right\": False})"
   ]
  },
  {
   "cell_type": "code",
   "execution_count": 2,
   "id": "99b2b068",
   "metadata": {
    "scrolled": true
   },
   "outputs": [],
   "source": [
    "def missing_data(input_data):\n",
    "    '''\n",
    "    This function returns dataframe with information about the percentage of nulls in each column and the column data type.\n",
    "    \n",
    "    input: pandas df\n",
    "    output: pandas df\n",
    "    \n",
    "    '''\n",
    "    \n",
    "    total = input_data.isnull().sum()\n",
    "    percent = (input_data.isnull().sum()/input_data.isnull().count()*100)\n",
    "    table = pd.concat([total, percent], axis = 1, keys = ['Total', 'Percent'])\n",
    "    types = []\n",
    "    for col in input_data.columns: \n",
    "        dtype = str(input_data[col].dtype)\n",
    "        types.append(dtype)\n",
    "    table[\"Types\"] = types\n",
    "    return(pd.DataFrame(table))\n",
    "\n",
    "def mape(actual, pred): \n",
    "    '''\n",
    "    Mean Absolute Percentage Error (MAPE) Function\n",
    "    \n",
    "    input: list/series for actual values and predicted values\n",
    "    output: mape value \n",
    "    '''\n",
    "    actual, pred = np.array(actual), np.array(pred)\n",
    "    # Filter out zero actual values to avoid division by zero\n",
    "    mask = actual != 0\n",
    "    actual, pred = actual[mask], pred[mask]\n",
    "    return np.mean(np.abs((actual - pred) / actual)) * 100"
   ]
  },
  {
   "cell_type": "markdown",
   "id": "67cfae1b",
   "metadata": {},
   "source": [
    "### Reading in Data\n"
   ]
  },
  {
   "cell_type": "code",
   "execution_count": 3,
   "id": "f9e93449",
   "metadata": {},
   "outputs": [],
   "source": [
    "df = pd.read_csv('quik_data_all.csv')\n",
    "df.columns = df.columns.str.lower()\n",
    "df['order_received_timestamp'] = pd.to_datetime(df['order_received_timestamp'], errors='coerce')\n"
   ]
  },
  {
   "cell_type": "code",
   "execution_count": 4,
   "id": "d848272f",
   "metadata": {},
   "outputs": [
    {
     "data": {
      "text/plain": [
       "(Timestamp('2023-12-01 00:00:00'), Timestamp('2024-02-29 23:40:00'))"
      ]
     },
     "execution_count": 4,
     "metadata": {},
     "output_type": "execute_result"
    }
   ],
   "source": [
    "min(df['order_received_timestamp']), max(df['order_received_timestamp'])"
   ]
  },
  {
   "cell_type": "code",
   "execution_count": 5,
   "id": "81a9871c",
   "metadata": {},
   "outputs": [
    {
     "data": {
      "text/html": [
       "<div>\n",
       "<style scoped>\n",
       "    .dataframe tbody tr th:only-of-type {\n",
       "        vertical-align: middle;\n",
       "    }\n",
       "\n",
       "    .dataframe tbody tr th {\n",
       "        vertical-align: top;\n",
       "    }\n",
       "\n",
       "    .dataframe thead th {\n",
       "        text-align: right;\n",
       "    }\n",
       "</style>\n",
       "<table border=\"1\" class=\"dataframe\">\n",
       "  <thead>\n",
       "    <tr style=\"text-align: right;\">\n",
       "      <th></th>\n",
       "      <th>merchant_id</th>\n",
       "      <th>order_received_timestamp</th>\n",
       "      <th>order_count</th>\n",
       "    </tr>\n",
       "  </thead>\n",
       "  <tbody>\n",
       "    <tr>\n",
       "      <th>0</th>\n",
       "      <td>merchant_1</td>\n",
       "      <td>2023-12-01 00:00:00</td>\n",
       "      <td>1</td>\n",
       "    </tr>\n",
       "    <tr>\n",
       "      <th>1</th>\n",
       "      <td>merchant_1</td>\n",
       "      <td>2023-12-01 00:20:00</td>\n",
       "      <td>2</td>\n",
       "    </tr>\n",
       "    <tr>\n",
       "      <th>2</th>\n",
       "      <td>merchant_1</td>\n",
       "      <td>2023-12-01 00:40:00</td>\n",
       "      <td>3</td>\n",
       "    </tr>\n",
       "    <tr>\n",
       "      <th>3</th>\n",
       "      <td>merchant_1</td>\n",
       "      <td>2023-12-01 01:00:00</td>\n",
       "      <td>2</td>\n",
       "    </tr>\n",
       "    <tr>\n",
       "      <th>4</th>\n",
       "      <td>merchant_1</td>\n",
       "      <td>2023-12-01 01:20:00</td>\n",
       "      <td>3</td>\n",
       "    </tr>\n",
       "  </tbody>\n",
       "</table>\n",
       "</div>"
      ],
      "text/plain": [
       "  merchant_id order_received_timestamp  order_count\n",
       "0  merchant_1      2023-12-01 00:00:00            1\n",
       "1  merchant_1      2023-12-01 00:20:00            2\n",
       "2  merchant_1      2023-12-01 00:40:00            3\n",
       "3  merchant_1      2023-12-01 01:00:00            2\n",
       "4  merchant_1      2023-12-01 01:20:00            3"
      ]
     },
     "execution_count": 5,
     "metadata": {},
     "output_type": "execute_result"
    }
   ],
   "source": [
    "df.head()"
   ]
  },
  {
   "cell_type": "markdown",
   "id": "adf171be",
   "metadata": {},
   "source": [
    "Aggregating the dataset to the \"merchant\" and \"orders\" daily level so that we can have high volume metrics for demand forecasting throughout the region. "
   ]
  },
  {
   "cell_type": "code",
   "execution_count": 6,
   "id": "0d9d553b",
   "metadata": {},
   "outputs": [],
   "source": [
    "agg_df = df.groupby(['order_received_timestamp', 'merchant_id']).agg({'order_count': 'sum'}).reset_index().sort_values(['merchant_id', 'order_received_timestamp']) #groups the data frame\n",
    "#(where segment corresponds to merchant, timestamp to date, and target to orders\n"
   ]
  },
  {
   "cell_type": "code",
   "execution_count": 7,
   "id": "754fd52f",
   "metadata": {},
   "outputs": [
    {
     "data": {
      "text/html": [
       "<div>\n",
       "<style scoped>\n",
       "    .dataframe tbody tr th:only-of-type {\n",
       "        vertical-align: middle;\n",
       "    }\n",
       "\n",
       "    .dataframe tbody tr th {\n",
       "        vertical-align: top;\n",
       "    }\n",
       "\n",
       "    .dataframe thead th {\n",
       "        text-align: right;\n",
       "    }\n",
       "</style>\n",
       "<table border=\"1\" class=\"dataframe\">\n",
       "  <thead>\n",
       "    <tr style=\"text-align: right;\">\n",
       "      <th></th>\n",
       "      <th>order_received_timestamp</th>\n",
       "      <th>merchant_id</th>\n",
       "      <th>order_count</th>\n",
       "    </tr>\n",
       "  </thead>\n",
       "  <tbody>\n",
       "    <tr>\n",
       "      <th>0</th>\n",
       "      <td>2023-12-01 00:00:00</td>\n",
       "      <td>merchant_1</td>\n",
       "      <td>1</td>\n",
       "    </tr>\n",
       "    <tr>\n",
       "      <th>7</th>\n",
       "      <td>2023-12-01 00:20:00</td>\n",
       "      <td>merchant_1</td>\n",
       "      <td>2</td>\n",
       "    </tr>\n",
       "    <tr>\n",
       "      <th>15</th>\n",
       "      <td>2023-12-01 00:40:00</td>\n",
       "      <td>merchant_1</td>\n",
       "      <td>3</td>\n",
       "    </tr>\n",
       "    <tr>\n",
       "      <th>24</th>\n",
       "      <td>2023-12-01 01:00:00</td>\n",
       "      <td>merchant_1</td>\n",
       "      <td>2</td>\n",
       "    </tr>\n",
       "    <tr>\n",
       "      <th>33</th>\n",
       "      <td>2023-12-01 01:20:00</td>\n",
       "      <td>merchant_1</td>\n",
       "      <td>3</td>\n",
       "    </tr>\n",
       "  </tbody>\n",
       "</table>\n",
       "</div>"
      ],
      "text/plain": [
       "   order_received_timestamp merchant_id  order_count\n",
       "0       2023-12-01 00:00:00  merchant_1            1\n",
       "7       2023-12-01 00:20:00  merchant_1            2\n",
       "15      2023-12-01 00:40:00  merchant_1            3\n",
       "24      2023-12-01 01:00:00  merchant_1            2\n",
       "33      2023-12-01 01:20:00  merchant_1            3"
      ]
     },
     "execution_count": 7,
     "metadata": {},
     "output_type": "execute_result"
    }
   ],
   "source": [
    "agg_df.head()"
   ]
  },
  {
   "cell_type": "code",
   "execution_count": 8,
   "id": "95355882",
   "metadata": {},
   "outputs": [
    {
     "data": {
      "text/html": [
       "<div>\n",
       "<style scoped>\n",
       "    .dataframe tbody tr th:only-of-type {\n",
       "        vertical-align: middle;\n",
       "    }\n",
       "\n",
       "    .dataframe tbody tr th {\n",
       "        vertical-align: top;\n",
       "    }\n",
       "\n",
       "    .dataframe thead th {\n",
       "        text-align: right;\n",
       "    }\n",
       "</style>\n",
       "<table border=\"1\" class=\"dataframe\">\n",
       "  <thead>\n",
       "    <tr style=\"text-align: right;\">\n",
       "      <th></th>\n",
       "      <th>order_received_timestamp</th>\n",
       "      <th>merchant_id</th>\n",
       "      <th>order_count</th>\n",
       "    </tr>\n",
       "  </thead>\n",
       "  <tbody>\n",
       "    <tr>\n",
       "      <th>70659</th>\n",
       "      <td>2024-02-29 22:20:00</td>\n",
       "      <td>merchant_9</td>\n",
       "      <td>1</td>\n",
       "    </tr>\n",
       "    <tr>\n",
       "      <th>70671</th>\n",
       "      <td>2024-02-29 22:40:00</td>\n",
       "      <td>merchant_9</td>\n",
       "      <td>1</td>\n",
       "    </tr>\n",
       "    <tr>\n",
       "      <th>70682</th>\n",
       "      <td>2024-02-29 23:00:00</td>\n",
       "      <td>merchant_9</td>\n",
       "      <td>2</td>\n",
       "    </tr>\n",
       "    <tr>\n",
       "      <th>70691</th>\n",
       "      <td>2024-02-29 23:20:00</td>\n",
       "      <td>merchant_9</td>\n",
       "      <td>0</td>\n",
       "    </tr>\n",
       "    <tr>\n",
       "      <th>70699</th>\n",
       "      <td>2024-02-29 23:40:00</td>\n",
       "      <td>merchant_9</td>\n",
       "      <td>2</td>\n",
       "    </tr>\n",
       "  </tbody>\n",
       "</table>\n",
       "</div>"
      ],
      "text/plain": [
       "      order_received_timestamp merchant_id  order_count\n",
       "70659      2024-02-29 22:20:00  merchant_9            1\n",
       "70671      2024-02-29 22:40:00  merchant_9            1\n",
       "70682      2024-02-29 23:00:00  merchant_9            2\n",
       "70691      2024-02-29 23:20:00  merchant_9            0\n",
       "70699      2024-02-29 23:40:00  merchant_9            2"
      ]
     },
     "execution_count": 8,
     "metadata": {},
     "output_type": "execute_result"
    }
   ],
   "source": [
    "agg_df.tail()"
   ]
  },
  {
   "cell_type": "code",
   "execution_count": 9,
   "id": "a815ed11",
   "metadata": {},
   "outputs": [
    {
     "data": {
      "text/html": [
       "<div>\n",
       "<style scoped>\n",
       "    .dataframe tbody tr th:only-of-type {\n",
       "        vertical-align: middle;\n",
       "    }\n",
       "\n",
       "    .dataframe tbody tr th {\n",
       "        vertical-align: top;\n",
       "    }\n",
       "\n",
       "    .dataframe thead th {\n",
       "        text-align: right;\n",
       "    }\n",
       "</style>\n",
       "<table border=\"1\" class=\"dataframe\">\n",
       "  <thead>\n",
       "    <tr style=\"text-align: right;\">\n",
       "      <th>merchant_id</th>\n",
       "      <th>merchant_1</th>\n",
       "      <th>merchant_10</th>\n",
       "      <th>merchant_11</th>\n",
       "      <th>merchant_12</th>\n",
       "      <th>merchant_2</th>\n",
       "      <th>merchant_3</th>\n",
       "      <th>merchant_4</th>\n",
       "      <th>merchant_5</th>\n",
       "      <th>merchant_6</th>\n",
       "      <th>merchant_7</th>\n",
       "      <th>merchant_8</th>\n",
       "      <th>merchant_9</th>\n",
       "    </tr>\n",
       "    <tr>\n",
       "      <th>order_received_timestamp</th>\n",
       "      <th></th>\n",
       "      <th></th>\n",
       "      <th></th>\n",
       "      <th></th>\n",
       "      <th></th>\n",
       "      <th></th>\n",
       "      <th></th>\n",
       "      <th></th>\n",
       "      <th></th>\n",
       "      <th></th>\n",
       "      <th></th>\n",
       "      <th></th>\n",
       "    </tr>\n",
       "  </thead>\n",
       "  <tbody>\n",
       "    <tr>\n",
       "      <th>2024-02-29 22:20:00</th>\n",
       "      <td>3.00</td>\n",
       "      <td>4.00</td>\n",
       "      <td>0.00</td>\n",
       "      <td>1.00</td>\n",
       "      <td>0.00</td>\n",
       "      <td>1.00</td>\n",
       "      <td>1.00</td>\n",
       "      <td>2.00</td>\n",
       "      <td>1.00</td>\n",
       "      <td>4.00</td>\n",
       "      <td>5.00</td>\n",
       "      <td>1.00</td>\n",
       "    </tr>\n",
       "    <tr>\n",
       "      <th>2024-02-29 22:40:00</th>\n",
       "      <td>1.00</td>\n",
       "      <td>5.00</td>\n",
       "      <td>2.00</td>\n",
       "      <td>0.00</td>\n",
       "      <td>2.00</td>\n",
       "      <td>1.00</td>\n",
       "      <td>4.00</td>\n",
       "      <td>1.00</td>\n",
       "      <td>2.00</td>\n",
       "      <td>3.00</td>\n",
       "      <td>1.00</td>\n",
       "      <td>1.00</td>\n",
       "    </tr>\n",
       "    <tr>\n",
       "      <th>2024-02-29 23:00:00</th>\n",
       "      <td>1.00</td>\n",
       "      <td>3.00</td>\n",
       "      <td>1.00</td>\n",
       "      <td>1.00</td>\n",
       "      <td>2.00</td>\n",
       "      <td>3.00</td>\n",
       "      <td>3.00</td>\n",
       "      <td>2.00</td>\n",
       "      <td>1.00</td>\n",
       "      <td>NaN</td>\n",
       "      <td>1.00</td>\n",
       "      <td>2.00</td>\n",
       "    </tr>\n",
       "    <tr>\n",
       "      <th>2024-02-29 23:20:00</th>\n",
       "      <td>1.00</td>\n",
       "      <td>2.00</td>\n",
       "      <td>0.00</td>\n",
       "      <td>NaN</td>\n",
       "      <td>4.00</td>\n",
       "      <td>1.00</td>\n",
       "      <td>2.00</td>\n",
       "      <td>0.00</td>\n",
       "      <td>NaN</td>\n",
       "      <td>NaN</td>\n",
       "      <td>3.00</td>\n",
       "      <td>0.00</td>\n",
       "    </tr>\n",
       "    <tr>\n",
       "      <th>2024-02-29 23:40:00</th>\n",
       "      <td>2.00</td>\n",
       "      <td>3.00</td>\n",
       "      <td>1.00</td>\n",
       "      <td>NaN</td>\n",
       "      <td>1.00</td>\n",
       "      <td>1.00</td>\n",
       "      <td>NaN</td>\n",
       "      <td>1.00</td>\n",
       "      <td>NaN</td>\n",
       "      <td>NaN</td>\n",
       "      <td>1.00</td>\n",
       "      <td>2.00</td>\n",
       "    </tr>\n",
       "  </tbody>\n",
       "</table>\n",
       "</div>"
      ],
      "text/plain": [
       "merchant_id               merchant_1  merchant_10  merchant_11  merchant_12  \\\n",
       "order_received_timestamp                                                      \n",
       "2024-02-29 22:20:00             3.00         4.00         0.00         1.00   \n",
       "2024-02-29 22:40:00             1.00         5.00         2.00         0.00   \n",
       "2024-02-29 23:00:00             1.00         3.00         1.00         1.00   \n",
       "2024-02-29 23:20:00             1.00         2.00         0.00          NaN   \n",
       "2024-02-29 23:40:00             2.00         3.00         1.00          NaN   \n",
       "\n",
       "merchant_id               merchant_2  merchant_3  merchant_4  merchant_5  \\\n",
       "order_received_timestamp                                                   \n",
       "2024-02-29 22:20:00             0.00        1.00        1.00        2.00   \n",
       "2024-02-29 22:40:00             2.00        1.00        4.00        1.00   \n",
       "2024-02-29 23:00:00             2.00        3.00        3.00        2.00   \n",
       "2024-02-29 23:20:00             4.00        1.00        2.00        0.00   \n",
       "2024-02-29 23:40:00             1.00        1.00         NaN        1.00   \n",
       "\n",
       "merchant_id               merchant_6  merchant_7  merchant_8  merchant_9  \n",
       "order_received_timestamp                                                  \n",
       "2024-02-29 22:20:00             1.00        4.00        5.00        1.00  \n",
       "2024-02-29 22:40:00             2.00        3.00        1.00        1.00  \n",
       "2024-02-29 23:00:00             1.00         NaN        1.00        2.00  \n",
       "2024-02-29 23:20:00              NaN         NaN        3.00        0.00  \n",
       "2024-02-29 23:40:00              NaN         NaN        1.00        2.00  "
      ]
     },
     "execution_count": 9,
     "metadata": {},
     "output_type": "execute_result"
    }
   ],
   "source": [
    "total_orders_df = agg_df.pivot(index='order_received_timestamp', columns='merchant_id', values='order_count')\n",
    "total_orders_df.tail()"
   ]
  },
  {
   "cell_type": "code",
   "execution_count": 10,
   "id": "1687b7a3",
   "metadata": {
    "scrolled": true
   },
   "outputs": [],
   "source": [
    "# for column in total_orders_df.columns:\n",
    "#     plt.figure(figsize=(10, 4))  \n",
    "#     plt.plot(total_orders_df.index, total_orders_df[column], marker='o', linestyle='-')  \n",
    "#     plt.title(f\"Order Trend for {column}\")\n",
    "#     plt.xlabel('Timestamp')\n",
    "#     plt.ylabel('Number of Orders')\n",
    "#     plt.grid(True)  \n",
    "#     plt.xticks(rotation=45)  \n",
    "#     plt.tight_layout()  \n",
    "#     plt.show()"
   ]
  },
  {
   "cell_type": "code",
   "execution_count": 11,
   "id": "42cde772",
   "metadata": {},
   "outputs": [],
   "source": [
    "total_orders_df = total_orders_df[total_orders_df.index >= '2023-12-01']\n"
   ]
  },
  {
   "cell_type": "code",
   "execution_count": 12,
   "id": "73a81590",
   "metadata": {
    "scrolled": true
   },
   "outputs": [
    {
     "data": {
      "text/html": [
       "<div>\n",
       "<style scoped>\n",
       "    .dataframe tbody tr th:only-of-type {\n",
       "        vertical-align: middle;\n",
       "    }\n",
       "\n",
       "    .dataframe tbody tr th {\n",
       "        vertical-align: top;\n",
       "    }\n",
       "\n",
       "    .dataframe thead th {\n",
       "        text-align: right;\n",
       "    }\n",
       "</style>\n",
       "<table border=\"1\" class=\"dataframe\">\n",
       "  <thead>\n",
       "    <tr style=\"text-align: right;\">\n",
       "      <th></th>\n",
       "      <th>Total</th>\n",
       "      <th>Percent</th>\n",
       "      <th>Types</th>\n",
       "    </tr>\n",
       "    <tr>\n",
       "      <th>merchant_id</th>\n",
       "      <th></th>\n",
       "      <th></th>\n",
       "      <th></th>\n",
       "    </tr>\n",
       "  </thead>\n",
       "  <tbody>\n",
       "    <tr>\n",
       "      <th>merchant_1</th>\n",
       "      <td>25</td>\n",
       "      <td>0.38</td>\n",
       "      <td>float64</td>\n",
       "    </tr>\n",
       "    <tr>\n",
       "      <th>merchant_10</th>\n",
       "      <td>23</td>\n",
       "      <td>0.35</td>\n",
       "      <td>float64</td>\n",
       "    </tr>\n",
       "    <tr>\n",
       "      <th>merchant_11</th>\n",
       "      <td>3285</td>\n",
       "      <td>50.14</td>\n",
       "      <td>float64</td>\n",
       "    </tr>\n",
       "    <tr>\n",
       "      <th>merchant_12</th>\n",
       "      <td>4573</td>\n",
       "      <td>69.80</td>\n",
       "      <td>float64</td>\n",
       "    </tr>\n",
       "    <tr>\n",
       "      <th>merchant_2</th>\n",
       "      <td>0</td>\n",
       "      <td>0.00</td>\n",
       "      <td>float64</td>\n",
       "    </tr>\n",
       "    <tr>\n",
       "      <th>merchant_3</th>\n",
       "      <td>0</td>\n",
       "      <td>0.00</td>\n",
       "      <td>float64</td>\n",
       "    </tr>\n",
       "    <tr>\n",
       "      <th>merchant_4</th>\n",
       "      <td>4</td>\n",
       "      <td>0.06</td>\n",
       "      <td>float64</td>\n",
       "    </tr>\n",
       "    <tr>\n",
       "      <th>merchant_5</th>\n",
       "      <td>0</td>\n",
       "      <td>0.00</td>\n",
       "      <td>float64</td>\n",
       "    </tr>\n",
       "    <tr>\n",
       "      <th>merchant_6</th>\n",
       "      <td>3</td>\n",
       "      <td>0.05</td>\n",
       "      <td>float64</td>\n",
       "    </tr>\n",
       "    <tr>\n",
       "      <th>merchant_7</th>\n",
       "      <td>6</td>\n",
       "      <td>0.09</td>\n",
       "      <td>float64</td>\n",
       "    </tr>\n",
       "    <tr>\n",
       "      <th>merchant_8</th>\n",
       "      <td>1</td>\n",
       "      <td>0.02</td>\n",
       "      <td>float64</td>\n",
       "    </tr>\n",
       "    <tr>\n",
       "      <th>merchant_9</th>\n",
       "      <td>4</td>\n",
       "      <td>0.06</td>\n",
       "      <td>float64</td>\n",
       "    </tr>\n",
       "  </tbody>\n",
       "</table>\n",
       "</div>"
      ],
      "text/plain": [
       "             Total  Percent    Types\n",
       "merchant_id                         \n",
       "merchant_1      25     0.38  float64\n",
       "merchant_10     23     0.35  float64\n",
       "merchant_11   3285    50.14  float64\n",
       "merchant_12   4573    69.80  float64\n",
       "merchant_2       0     0.00  float64\n",
       "merchant_3       0     0.00  float64\n",
       "merchant_4       4     0.06  float64\n",
       "merchant_5       0     0.00  float64\n",
       "merchant_6       3     0.05  float64\n",
       "merchant_7       6     0.09  float64\n",
       "merchant_8       1     0.02  float64\n",
       "merchant_9       4     0.06  float64"
      ]
     },
     "execution_count": 12,
     "metadata": {},
     "output_type": "execute_result"
    }
   ],
   "source": [
    "missing_data(total_orders_df)"
   ]
  },
  {
   "cell_type": "code",
   "execution_count": 13,
   "id": "b29cab06",
   "metadata": {},
   "outputs": [
    {
     "data": {
      "text/html": [
       "<div>\n",
       "<style scoped>\n",
       "    .dataframe tbody tr th:only-of-type {\n",
       "        vertical-align: middle;\n",
       "    }\n",
       "\n",
       "    .dataframe tbody tr th {\n",
       "        vertical-align: top;\n",
       "    }\n",
       "\n",
       "    .dataframe thead th {\n",
       "        text-align: right;\n",
       "    }\n",
       "</style>\n",
       "<table border=\"1\" class=\"dataframe\">\n",
       "  <thead>\n",
       "    <tr style=\"text-align: right;\">\n",
       "      <th></th>\n",
       "      <th>Total</th>\n",
       "      <th>Percent</th>\n",
       "      <th>Types</th>\n",
       "    </tr>\n",
       "    <tr>\n",
       "      <th>merchant_id</th>\n",
       "      <th></th>\n",
       "      <th></th>\n",
       "      <th></th>\n",
       "    </tr>\n",
       "  </thead>\n",
       "  <tbody>\n",
       "    <tr>\n",
       "      <th>merchant_1</th>\n",
       "      <td>0</td>\n",
       "      <td>0.00</td>\n",
       "      <td>float64</td>\n",
       "    </tr>\n",
       "    <tr>\n",
       "      <th>merchant_10</th>\n",
       "      <td>0</td>\n",
       "      <td>0.00</td>\n",
       "      <td>float64</td>\n",
       "    </tr>\n",
       "    <tr>\n",
       "      <th>merchant_11</th>\n",
       "      <td>0</td>\n",
       "      <td>0.00</td>\n",
       "      <td>float64</td>\n",
       "    </tr>\n",
       "    <tr>\n",
       "      <th>merchant_12</th>\n",
       "      <td>0</td>\n",
       "      <td>0.00</td>\n",
       "      <td>float64</td>\n",
       "    </tr>\n",
       "    <tr>\n",
       "      <th>merchant_2</th>\n",
       "      <td>0</td>\n",
       "      <td>0.00</td>\n",
       "      <td>float64</td>\n",
       "    </tr>\n",
       "    <tr>\n",
       "      <th>merchant_3</th>\n",
       "      <td>0</td>\n",
       "      <td>0.00</td>\n",
       "      <td>float64</td>\n",
       "    </tr>\n",
       "    <tr>\n",
       "      <th>merchant_4</th>\n",
       "      <td>0</td>\n",
       "      <td>0.00</td>\n",
       "      <td>float64</td>\n",
       "    </tr>\n",
       "    <tr>\n",
       "      <th>merchant_5</th>\n",
       "      <td>0</td>\n",
       "      <td>0.00</td>\n",
       "      <td>float64</td>\n",
       "    </tr>\n",
       "    <tr>\n",
       "      <th>merchant_6</th>\n",
       "      <td>0</td>\n",
       "      <td>0.00</td>\n",
       "      <td>float64</td>\n",
       "    </tr>\n",
       "    <tr>\n",
       "      <th>merchant_7</th>\n",
       "      <td>0</td>\n",
       "      <td>0.00</td>\n",
       "      <td>float64</td>\n",
       "    </tr>\n",
       "    <tr>\n",
       "      <th>merchant_8</th>\n",
       "      <td>0</td>\n",
       "      <td>0.00</td>\n",
       "      <td>float64</td>\n",
       "    </tr>\n",
       "    <tr>\n",
       "      <th>merchant_9</th>\n",
       "      <td>0</td>\n",
       "      <td>0.00</td>\n",
       "      <td>float64</td>\n",
       "    </tr>\n",
       "  </tbody>\n",
       "</table>\n",
       "</div>"
      ],
      "text/plain": [
       "             Total  Percent    Types\n",
       "merchant_id                         \n",
       "merchant_1       0     0.00  float64\n",
       "merchant_10      0     0.00  float64\n",
       "merchant_11      0     0.00  float64\n",
       "merchant_12      0     0.00  float64\n",
       "merchant_2       0     0.00  float64\n",
       "merchant_3       0     0.00  float64\n",
       "merchant_4       0     0.00  float64\n",
       "merchant_5       0     0.00  float64\n",
       "merchant_6       0     0.00  float64\n",
       "merchant_7       0     0.00  float64\n",
       "merchant_8       0     0.00  float64\n",
       "merchant_9       0     0.00  float64"
      ]
     },
     "execution_count": 13,
     "metadata": {},
     "output_type": "execute_result"
    }
   ],
   "source": [
    "total_orders_df.fillna(0, inplace=True) #filling nan values with zeros\n",
    "\n",
    "# or filling NaN values with the mean of each column\n",
    "#total_orders_df.fillna(total_orders_df.mean(), inplace=True)\n",
    "\n",
    "missing_data(total_orders_df)"
   ]
  },
  {
   "cell_type": "markdown",
   "id": "90ffe7eb",
   "metadata": {},
   "source": [
    "#### Let's group these different categories by the volume of data. The higher volume data the better for forecasting since you can forecast past the noise and end up with lower error bars. This will also let us visualize the forecasts on similar scales so that we can figure out if timeseries modeling will work for the categories since timeseries highly depends on seasonal data of a certain variation (addtitive, multiplicative)."
   ]
  },
  {
   "cell_type": "markdown",
   "id": "1d267f93",
   "metadata": {},
   "source": [
    "### Category Grouping"
   ]
  },
  {
   "cell_type": "code",
   "execution_count": 14,
   "id": "34c715c4",
   "metadata": {},
   "outputs": [],
   "source": [
    "#lets break it down by thirds for low, mid, high\n",
    "avg_daily_orders = total_orders_df.apply(np.mean, axis=0).sort_values() #typical order volume per merchant across all timestamps.\n",
    "\n",
    "low, mid = np.percentile(avg_daily_orders, [33, 66]) #thresholds for low, mid, and high order volumes.\n"
   ]
  },
  {
   "cell_type": "code",
   "execution_count": 15,
   "id": "021cef70",
   "metadata": {},
   "outputs": [],
   "source": [
    "# Create lists of merchants based on order volume categories\n",
    "low_vol_columns = list(avg_daily_orders[avg_daily_orders <= low].index)\n",
    "mid_vol_columns = list(avg_daily_orders[(avg_daily_orders > low) & (avg_daily_orders < mid)].index)\n",
    "high_vol_columns = list(avg_daily_orders[avg_daily_orders >= mid].index)\n",
    "\n"
   ]
  },
  {
   "cell_type": "code",
   "execution_count": 16,
   "id": "6c92e7de",
   "metadata": {},
   "outputs": [
    {
     "data": {
      "text/plain": [
       "['merchant_10', 'merchant_1', 'merchant_4', 'merchant_5']"
      ]
     },
     "execution_count": 16,
     "metadata": {},
     "output_type": "execute_result"
    }
   ],
   "source": [
    "high_vol_columns"
   ]
  },
  {
   "cell_type": "code",
   "execution_count": 17,
   "id": "e441c736",
   "metadata": {
    "scrolled": true
   },
   "outputs": [],
   "source": [
    "# plt.figure(figsize=(12, 6))  \n",
    "# for merchant in low_vol_columns:\n",
    "#     plt.plot(total_orders_df.index, total_orders_df[merchant], label=merchant)\n",
    "\n",
    "# plt.title('Order Trends for Low Volume Merchants')\n",
    "# plt.xlabel('Timestamp')\n",
    "# plt.ylabel('Number of Orders')\n",
    "# plt.legend(title='Merchant', loc='best')  \n",
    "# plt.grid(True)  \n",
    "# plt.xticks(rotation=45)  \n",
    "# plt.tight_layout() \n",
    "# plt.show()"
   ]
  },
  {
   "cell_type": "code",
   "execution_count": 18,
   "id": "60c56820",
   "metadata": {
    "scrolled": true
   },
   "outputs": [],
   "source": [
    "# plt.figure(figsize=(12, 6)) \n",
    "# for merchant in mid_vol_columns:\n",
    "#     plt.plot(total_orders_df.index, total_orders_df[merchant], label=merchant)\n",
    "\n",
    "# plt.title('Order Trends for Mid Volume Merchants')\n",
    "# plt.xlabel('Timestamp')\n",
    "# plt.ylabel('Number of Orders')\n",
    "# plt.legend(title='Merchant', loc='best', bbox_to_anchor=(1.1, 1.05))  # Positioning the legend outside the plot area\n",
    "# plt.grid(True)  # Adding a grid for better readability\n",
    "# plt.xticks(rotation=30)  \n",
    "# plt.tight_layout() \n",
    "# plt.show()"
   ]
  },
  {
   "cell_type": "code",
   "execution_count": 19,
   "id": "b11b6e6c",
   "metadata": {
    "scrolled": true
   },
   "outputs": [],
   "source": [
    "# plt.figure(figsize=(12, 6))  # Set a suitable figure size\n",
    "# for merchant in high_vol_columns:\n",
    "#     plt.plot(total_orders_df.index, total_orders_df[merchant], label=merchant)\n",
    "\n",
    "# plt.title('Order Trends for High Volume Merchants')\n",
    "# plt.xlabel('Timestamp')\n",
    "# plt.ylabel('Number of Orders')\n",
    "# plt.legend(title='Merchant', loc='best', bbox_to_anchor=(1.1, 1.05))  # Properly title the legend and adjust its position\n",
    "# plt.xticks(rotation=30)\n",
    "# plt.grid(True)  # Optionally add a grid\n",
    "# plt.tight_layout()  # Adjust layout\n",
    "# plt.show()"
   ]
  },
  {
   "cell_type": "markdown",
   "id": "ccd61cac",
   "metadata": {},
   "source": [
    "### Let's test things out with a high volume metric first to see if things work. Let's test with \"Merchant_5\""
   ]
  },
  {
   "cell_type": "code",
   "execution_count": 20,
   "id": "aba0f105",
   "metadata": {},
   "outputs": [],
   "source": [
    "#setting variables\n",
    "feature = 'merchant_5' #a high volume merchant\n",
    "prediction_days = 1 \n",
    "\n"
   ]
  },
  {
   "cell_type": "code",
   "execution_count": 21,
   "id": "2da9c5a7",
   "metadata": {},
   "outputs": [
    {
     "data": {
      "text/html": [
       "<div>\n",
       "<style scoped>\n",
       "    .dataframe tbody tr th:only-of-type {\n",
       "        vertical-align: middle;\n",
       "    }\n",
       "\n",
       "    .dataframe tbody tr th {\n",
       "        vertical-align: top;\n",
       "    }\n",
       "\n",
       "    .dataframe thead th {\n",
       "        text-align: right;\n",
       "    }\n",
       "</style>\n",
       "<table border=\"1\" class=\"dataframe\">\n",
       "  <thead>\n",
       "    <tr style=\"text-align: right;\">\n",
       "      <th>merchant_id</th>\n",
       "      <th>order_received_timestamp</th>\n",
       "      <th>merchant_5</th>\n",
       "    </tr>\n",
       "  </thead>\n",
       "  <tbody>\n",
       "    <tr>\n",
       "      <th>0</th>\n",
       "      <td>2023-12-01 00:00:00</td>\n",
       "      <td>1.00</td>\n",
       "    </tr>\n",
       "    <tr>\n",
       "      <th>1</th>\n",
       "      <td>2023-12-01 00:20:00</td>\n",
       "      <td>4.00</td>\n",
       "    </tr>\n",
       "    <tr>\n",
       "      <th>2</th>\n",
       "      <td>2023-12-01 00:40:00</td>\n",
       "      <td>2.00</td>\n",
       "    </tr>\n",
       "    <tr>\n",
       "      <th>3</th>\n",
       "      <td>2023-12-01 01:00:00</td>\n",
       "      <td>1.00</td>\n",
       "    </tr>\n",
       "    <tr>\n",
       "      <th>4</th>\n",
       "      <td>2023-12-01 01:20:00</td>\n",
       "      <td>1.00</td>\n",
       "    </tr>\n",
       "  </tbody>\n",
       "</table>\n",
       "</div>"
      ],
      "text/plain": [
       "merchant_id order_received_timestamp  merchant_5\n",
       "0                2023-12-01 00:00:00        1.00\n",
       "1                2023-12-01 00:20:00        4.00\n",
       "2                2023-12-01 00:40:00        2.00\n",
       "3                2023-12-01 01:00:00        1.00\n",
       "4                2023-12-01 01:20:00        1.00"
      ]
     },
     "execution_count": 21,
     "metadata": {},
     "output_type": "execute_result"
    }
   ],
   "source": [
    "df = total_orders_df[[feature]].reset_index()\n",
    "df.head()"
   ]
  },
  {
   "cell_type": "code",
   "execution_count": 22,
   "id": "e66d78b2",
   "metadata": {},
   "outputs": [
    {
     "name": "stderr",
     "output_type": "stream",
     "text": [
      "C:\\Users\\Nourhan\\AppData\\Local\\Temp\\ipykernel_23848\\2174945176.py:8: FutureWarning: errors='ignore' is deprecated and will raise in a future version. Use to_datetime without passing `errors` and catch exceptions explicitly instead\n",
      "  holiday['ds'] = pd.to_datetime(holiday['ds'], format='%Y-%m-%d', errors='ignore')\n"
     ]
    },
    {
     "data": {
      "text/html": [
       "<div>\n",
       "<style scoped>\n",
       "    .dataframe tbody tr th:only-of-type {\n",
       "        vertical-align: middle;\n",
       "    }\n",
       "\n",
       "    .dataframe tbody tr th {\n",
       "        vertical-align: top;\n",
       "    }\n",
       "\n",
       "    .dataframe thead th {\n",
       "        text-align: right;\n",
       "    }\n",
       "</style>\n",
       "<table border=\"1\" class=\"dataframe\">\n",
       "  <thead>\n",
       "    <tr style=\"text-align: right;\">\n",
       "      <th></th>\n",
       "      <th>ds</th>\n",
       "      <th>holiday</th>\n",
       "      <th>lower_window</th>\n",
       "      <th>upper_window</th>\n",
       "    </tr>\n",
       "  </thead>\n",
       "  <tbody>\n",
       "    <tr>\n",
       "      <th>0</th>\n",
       "      <td>2023-01-01</td>\n",
       "      <td>UAE-Holidays</td>\n",
       "      <td>-2</td>\n",
       "      <td>1</td>\n",
       "    </tr>\n",
       "    <tr>\n",
       "      <th>1</th>\n",
       "      <td>2023-04-20</td>\n",
       "      <td>UAE-Holidays</td>\n",
       "      <td>-2</td>\n",
       "      <td>1</td>\n",
       "    </tr>\n",
       "    <tr>\n",
       "      <th>2</th>\n",
       "      <td>2023-04-21</td>\n",
       "      <td>UAE-Holidays</td>\n",
       "      <td>-2</td>\n",
       "      <td>1</td>\n",
       "    </tr>\n",
       "    <tr>\n",
       "      <th>3</th>\n",
       "      <td>2023-04-22</td>\n",
       "      <td>UAE-Holidays</td>\n",
       "      <td>-2</td>\n",
       "      <td>1</td>\n",
       "    </tr>\n",
       "    <tr>\n",
       "      <th>4</th>\n",
       "      <td>2023-04-23</td>\n",
       "      <td>UAE-Holidays</td>\n",
       "      <td>-2</td>\n",
       "      <td>1</td>\n",
       "    </tr>\n",
       "    <tr>\n",
       "      <th>5</th>\n",
       "      <td>2023-06-27</td>\n",
       "      <td>UAE-Holidays</td>\n",
       "      <td>-2</td>\n",
       "      <td>1</td>\n",
       "    </tr>\n",
       "    <tr>\n",
       "      <th>6</th>\n",
       "      <td>2023-06-28</td>\n",
       "      <td>UAE-Holidays</td>\n",
       "      <td>-2</td>\n",
       "      <td>1</td>\n",
       "    </tr>\n",
       "    <tr>\n",
       "      <th>7</th>\n",
       "      <td>2023-06-29</td>\n",
       "      <td>UAE-Holidays</td>\n",
       "      <td>-2</td>\n",
       "      <td>1</td>\n",
       "    </tr>\n",
       "    <tr>\n",
       "      <th>8</th>\n",
       "      <td>2023-06-30</td>\n",
       "      <td>UAE-Holidays</td>\n",
       "      <td>-2</td>\n",
       "      <td>1</td>\n",
       "    </tr>\n",
       "    <tr>\n",
       "      <th>9</th>\n",
       "      <td>2023-07-21</td>\n",
       "      <td>UAE-Holidays</td>\n",
       "      <td>-2</td>\n",
       "      <td>1</td>\n",
       "    </tr>\n",
       "  </tbody>\n",
       "</table>\n",
       "</div>"
      ],
      "text/plain": [
       "          ds       holiday  lower_window  upper_window\n",
       "0 2023-01-01  UAE-Holidays            -2             1\n",
       "1 2023-04-20  UAE-Holidays            -2             1\n",
       "2 2023-04-21  UAE-Holidays            -2             1\n",
       "3 2023-04-22  UAE-Holidays            -2             1\n",
       "4 2023-04-23  UAE-Holidays            -2             1\n",
       "5 2023-06-27  UAE-Holidays            -2             1\n",
       "6 2023-06-28  UAE-Holidays            -2             1\n",
       "7 2023-06-29  UAE-Holidays            -2             1\n",
       "8 2023-06-30  UAE-Holidays            -2             1\n",
       "9 2023-07-21  UAE-Holidays            -2             1"
      ]
     },
     "execution_count": 22,
     "metadata": {},
     "output_type": "execute_result"
    }
   ],
   "source": [
    "holiday = pd.DataFrame([])\n",
    "uae_holidays = holidays.country_holidays('AE')\n",
    "\n",
    "# Fetch holidays for UAE for the years 2023 and 2024\n",
    "for date_, name in sorted(holidays.AE(years=[2023, 2024]).items()):\n",
    "    holiday = pd.concat([holiday, pd.DataFrame({'ds': date_, 'holiday': \"UAE-Holidays\", 'lower_window': -2, 'upper_window': 1}, index=[0])], ignore_index=True)\n",
    "\n",
    "holiday['ds'] = pd.to_datetime(holiday['ds'], format='%Y-%m-%d', errors='ignore')\n",
    "holiday.head(10)\n",
    "#holiday.tail(10)\n",
    "\n"
   ]
  },
  {
   "cell_type": "markdown",
   "id": "775787e3",
   "metadata": {},
   "source": [
    "https://pypi.org/project/holidays/"
   ]
  },
  {
   "cell_type": "code",
   "execution_count": 23,
   "id": "f29ef575",
   "metadata": {},
   "outputs": [
    {
     "name": "stdout",
     "output_type": "stream",
     "text": [
      "merchant_id order_received_timestamp  merchant_5\n",
      "6547             2024-02-29 22:20:00        2.00\n",
      "6548             2024-02-29 22:40:00        1.00\n",
      "6549             2024-02-29 23:00:00        2.00\n",
      "6550             2024-02-29 23:20:00        0.00\n",
      "6551             2024-02-29 23:40:00        1.00\n"
     ]
    }
   ],
   "source": [
    "print(df.tail(5)) \n"
   ]
  },
  {
   "cell_type": "markdown",
   "id": "7f4ab2c5",
   "metadata": {},
   "source": [
    "m = Prophet(growth='linear',\n",
    "            changepoint_range = changepoint_range,\n",
    "            yearly_seasonality = True,\n",
    "            weekly_seasonality = True,\n",
    "            daily_seasonality = False,\n",
    "            seasonality_mode='multiplicative',\n",
    "            holidays=holiday)"
   ]
  },
  {
   "attachments": {
    "1_Oe2mGHiiwDMmRcBlbvS39Q.webp": {
     "image/webp": "[encoded data removed]"
    }
   },
   "cell_type": "markdown",
   "id": "46652f2e",
   "metadata": {},
   "source": [
    "![1_Oe2mGHiiwDMmRcBlbvS39Q.webp](attachment:1_Oe2mGHiiwDMmRcBlbvS39Q.webp)"
   ]
  },
  {
   "cell_type": "markdown",
   "id": "2a7ec2e1",
   "metadata": {},
   "source": [
    "[Timeseries From Scratch article](https://towardsdatascience.com/time-series-from-scratch-decomposing-time-series-data-7b7ad0c30fe7#:~:text=a%20single%20season.-,Multiplicative%20trend%20and%20additive%20seasonality,of%20seasonal%20periods%20over%20time.&text=You%20can%20see%20how%20the%20trend%20is%20slightly%20curved.) will show you the breakdown of the different ways to identify and configure time series parameters for the data you have/business needs utilizing your data."
   ]
  },
  {
   "cell_type": "code",
   "execution_count": 24,
   "id": "ae9219f6",
   "metadata": {},
   "outputs": [],
   "source": [
    "#df.columns"
   ]
  },
  {
   "cell_type": "code",
   "execution_count": 25,
   "id": "875da55d",
   "metadata": {},
   "outputs": [
    {
     "name": "stderr",
     "output_type": "stream",
     "text": [
      "17:10:34 - cmdstanpy - INFO - Chain [1] start processing\n",
      "17:10:34 - cmdstanpy - INFO - Chain [1] done processing\n"
     ]
    }
   ],
   "source": [
    "# #PROPHET MODEL\n",
    "\n",
    "df_copy = df.copy()\n",
    "df_copy = df_copy.rename(columns={'order_received_timestamp': 'ds', feature: 'y'})\n",
    "df_copy['y'] = pd.to_numeric(df_copy['y'])\n",
    "df_copy['ds'] = pd.to_datetime(df_copy['ds'])\n",
    "\n",
    "# Set forecast start date\n",
    "forecast_start_dt = date(2024, 2, 24)\n",
    "forecast_start_date = (forecast_start_dt).strftime(\"%Y-%m-%d\")\n",
    "#print(\"Forecast start date:\", forecast_start_date)\n",
    "\n",
    "# # Create training set\n",
    "train_set = df_copy[(df_copy['ds'] < forecast_start_date)] #limit it to everything before that\n",
    "\n",
    "#train_set.head()\n",
    "\n",
    "if train_set['y'].notna().sum() < 2:\n",
    "    print(\"Error: Not enough non-NaN rows in the training set.\")\n",
    "\n",
    "# Initialize and train the Prophet model\n",
    "m = Prophet()\n",
    "\n",
    "m.fit(train_set)\n",
    "\n",
    "# Create future DataFrame with 20-minute intervals for the specified number of days\n",
    "future = m.make_future_dataframe(periods=prediction_days * 72, freq='20min')\n",
    "fcst_prophet_train = m.predict(future)\n",
    "\n",
    "# Filter to get the forecasted data\n",
    "filter = fcst_prophet_train['ds'] >= forecast_start_date \n",
    "predicted_df = fcst_prophet_train[filter][['ds', 'yhat']]"
   ]
  },
  {
   "cell_type": "code",
   "execution_count": 26,
   "id": "14b3fa78",
   "metadata": {},
   "outputs": [
    {
     "data": {
      "text/html": [
       "<div>\n",
       "<style scoped>\n",
       "    .dataframe tbody tr th:only-of-type {\n",
       "        vertical-align: middle;\n",
       "    }\n",
       "\n",
       "    .dataframe tbody tr th {\n",
       "        vertical-align: top;\n",
       "    }\n",
       "\n",
       "    .dataframe thead th {\n",
       "        text-align: right;\n",
       "    }\n",
       "</style>\n",
       "<table border=\"1\" class=\"dataframe\">\n",
       "  <thead>\n",
       "    <tr style=\"text-align: right;\">\n",
       "      <th></th>\n",
       "      <th>ds</th>\n",
       "      <th>yhat</th>\n",
       "    </tr>\n",
       "  </thead>\n",
       "  <tbody>\n",
       "    <tr>\n",
       "      <th>6120</th>\n",
       "      <td>2024-02-24 00:00:00</td>\n",
       "      <td>-2.62</td>\n",
       "    </tr>\n",
       "    <tr>\n",
       "      <th>6121</th>\n",
       "      <td>2024-02-24 00:20:00</td>\n",
       "      <td>-2.86</td>\n",
       "    </tr>\n",
       "    <tr>\n",
       "      <th>6122</th>\n",
       "      <td>2024-02-24 00:40:00</td>\n",
       "      <td>-2.98</td>\n",
       "    </tr>\n",
       "    <tr>\n",
       "      <th>6123</th>\n",
       "      <td>2024-02-24 01:00:00</td>\n",
       "      <td>-2.93</td>\n",
       "    </tr>\n",
       "    <tr>\n",
       "      <th>6124</th>\n",
       "      <td>2024-02-24 01:20:00</td>\n",
       "      <td>-2.67</td>\n",
       "    </tr>\n",
       "    <tr>\n",
       "      <th>6125</th>\n",
       "      <td>2024-02-24 01:40:00</td>\n",
       "      <td>-2.17</td>\n",
       "    </tr>\n",
       "    <tr>\n",
       "      <th>6126</th>\n",
       "      <td>2024-02-24 02:00:00</td>\n",
       "      <td>-1.42</td>\n",
       "    </tr>\n",
       "    <tr>\n",
       "      <th>6127</th>\n",
       "      <td>2024-02-24 02:20:00</td>\n",
       "      <td>-0.41</td>\n",
       "    </tr>\n",
       "    <tr>\n",
       "      <th>6128</th>\n",
       "      <td>2024-02-24 02:40:00</td>\n",
       "      <td>0.85</td>\n",
       "    </tr>\n",
       "    <tr>\n",
       "      <th>6129</th>\n",
       "      <td>2024-02-24 03:00:00</td>\n",
       "      <td>2.33</td>\n",
       "    </tr>\n",
       "  </tbody>\n",
       "</table>\n",
       "</div>"
      ],
      "text/plain": [
       "                      ds  yhat\n",
       "6120 2024-02-24 00:00:00 -2.62\n",
       "6121 2024-02-24 00:20:00 -2.86\n",
       "6122 2024-02-24 00:40:00 -2.98\n",
       "6123 2024-02-24 01:00:00 -2.93\n",
       "6124 2024-02-24 01:20:00 -2.67\n",
       "6125 2024-02-24 01:40:00 -2.17\n",
       "6126 2024-02-24 02:00:00 -1.42\n",
       "6127 2024-02-24 02:20:00 -0.41\n",
       "6128 2024-02-24 02:40:00  0.85\n",
       "6129 2024-02-24 03:00:00  2.33"
      ]
     },
     "execution_count": 26,
     "metadata": {},
     "output_type": "execute_result"
    }
   ],
   "source": [
    "predicted_df.head(10)"
   ]
  },
  {
   "cell_type": "markdown",
   "id": "90b4df69",
   "metadata": {},
   "source": [
    "<b> variable considerations for prophet model: </b> growth, changepoint_prior_scale, changepoint_range, yearly/weekly/daily seasonality, seasonality mode, holidays"
   ]
  },
  {
   "cell_type": "code",
   "execution_count": 27,
   "id": "be901f3d",
   "metadata": {},
   "outputs": [],
   "source": [
    "df_copy = df.copy()\n",
    "df_copy.columns = ['ds', 'ytrue']\n",
    "predicted_df = predicted_df.merge(df_copy)"
   ]
  },
  {
   "cell_type": "code",
   "execution_count": 28,
   "id": "f87f751f",
   "metadata": {},
   "outputs": [],
   "source": [
    "# # Remove rows with NaN values in ytrue\n",
    "# predicted_df = predicted_df.dropna(subset=['ytrue'])\n",
    "\n",
    "# # Filter out rows where ytrue is zero\n",
    "# predicted_df = predicted_df[predicted_df['ytrue'] != 0]\n"
   ]
  },
  {
   "cell_type": "code",
   "execution_count": 29,
   "id": "c890bcb8",
   "metadata": {
    "scrolled": true
   },
   "outputs": [
    {
     "data": {
      "text/html": [
       "<div>\n",
       "<style scoped>\n",
       "    .dataframe tbody tr th:only-of-type {\n",
       "        vertical-align: middle;\n",
       "    }\n",
       "\n",
       "    .dataframe tbody tr th {\n",
       "        vertical-align: top;\n",
       "    }\n",
       "\n",
       "    .dataframe thead th {\n",
       "        text-align: right;\n",
       "    }\n",
       "</style>\n",
       "<table border=\"1\" class=\"dataframe\">\n",
       "  <thead>\n",
       "    <tr style=\"text-align: right;\">\n",
       "      <th></th>\n",
       "      <th>ds</th>\n",
       "      <th>yhat</th>\n",
       "      <th>ytrue</th>\n",
       "    </tr>\n",
       "  </thead>\n",
       "  <tbody>\n",
       "    <tr>\n",
       "      <th>0</th>\n",
       "      <td>2024-02-24 00:00:00</td>\n",
       "      <td>-2.62</td>\n",
       "      <td>1.00</td>\n",
       "    </tr>\n",
       "    <tr>\n",
       "      <th>1</th>\n",
       "      <td>2024-02-24 00:20:00</td>\n",
       "      <td>-2.86</td>\n",
       "      <td>1.00</td>\n",
       "    </tr>\n",
       "    <tr>\n",
       "      <th>2</th>\n",
       "      <td>2024-02-24 00:40:00</td>\n",
       "      <td>-2.98</td>\n",
       "      <td>0.00</td>\n",
       "    </tr>\n",
       "    <tr>\n",
       "      <th>3</th>\n",
       "      <td>2024-02-24 01:00:00</td>\n",
       "      <td>-2.93</td>\n",
       "      <td>0.00</td>\n",
       "    </tr>\n",
       "    <tr>\n",
       "      <th>4</th>\n",
       "      <td>2024-02-24 01:20:00</td>\n",
       "      <td>-2.67</td>\n",
       "      <td>0.00</td>\n",
       "    </tr>\n",
       "  </tbody>\n",
       "</table>\n",
       "</div>"
      ],
      "text/plain": [
       "                   ds  yhat  ytrue\n",
       "0 2024-02-24 00:00:00 -2.62   1.00\n",
       "1 2024-02-24 00:20:00 -2.86   1.00\n",
       "2 2024-02-24 00:40:00 -2.98   0.00\n",
       "3 2024-02-24 01:00:00 -2.93   0.00\n",
       "4 2024-02-24 01:20:00 -2.67   0.00"
      ]
     },
     "execution_count": 29,
     "metadata": {},
     "output_type": "execute_result"
    }
   ],
   "source": [
    "predicted_df.head()"
   ]
  },
  {
   "cell_type": "code",
   "execution_count": 30,
   "id": "ac621cfc",
   "metadata": {},
   "outputs": [
    {
     "data": {
      "image/png": "[encoded data removed]",
      "text/plain": [
       "<Figure size 1400x700 with 1 Axes>"
      ]
     },
     "metadata": {},
     "output_type": "display_data"
    }
   ],
   "source": [
    "# Plotting the results\n",
    "plt.figure(figsize=(14, 7))  # Adjust the figure size as needed\n",
    "\n",
    "# Plot actual values\n",
    "plt.plot(predicted_df['ds'], predicted_df['ytrue'], label='Actual', color='blue', marker='o', linestyle='-', alpha=0.6)\n",
    "\n",
    "# Plot predicted values\n",
    "plt.plot(predicted_df['ds'], predicted_df['yhat'], label='Predicted', color='red', linestyle='-', alpha=0.8)\n",
    "\n",
    "# Add title and labels\n",
    "plt.title('Actual vs Predicted Orders')\n",
    "plt.xlabel('Timestamp')\n",
    "plt.ylabel('Number of Orders')\n",
    "\n",
    "# Add legend\n",
    "plt.legend()\n",
    "\n",
    "# Add grid\n",
    "plt.grid(True)\n",
    "\n",
    "# Rotate x-axis labels for better readability\n",
    "plt.xticks(rotation=45)\n",
    "\n",
    "# Adjust layout\n",
    "plt.tight_layout()\n",
    "\n",
    "# Show plot"
   ]
  },
  {
   "cell_type": "code",
   "execution_count": 31,
   "id": "22153572",
   "metadata": {},
   "outputs": [
    {
     "name": "stdout",
     "output_type": "stream",
     "text": [
      "Accuracy Score: \n"
     ]
    },
    {
     "data": {
      "text/plain": [
       "44.26366909012698"
      ]
     },
     "execution_count": 31,
     "metadata": {},
     "output_type": "execute_result"
    }
   ],
   "source": [
    "print(\"Accuracy Score: \")\n",
    "100 - mape(predicted_df['ytrue'], predicted_df['yhat'])\n"
   ]
  },
  {
   "cell_type": "code",
   "execution_count": 32,
   "id": "d3d16fdf",
   "metadata": {},
   "outputs": [
    {
     "name": "stdout",
     "output_type": "stream",
     "text": [
      "MAE: 4.08\n",
      "RMSE: 5.27\n"
     ]
    },
    {
     "name": "stderr",
     "output_type": "stream",
     "text": [
      "c:\\Users\\Nourhan\\AppData\\Local\\Programs\\Python\\Python311\\Lib\\site-packages\\sklearn\\metrics\\_regression.py:492: FutureWarning: 'squared' is deprecated in version 1.4 and will be removed in 1.6. To calculate the root mean squared error, use the function'root_mean_squared_error'.\n",
      "  warnings.warn(\n"
     ]
    }
   ],
   "source": [
    "from sklearn.metrics import mean_absolute_error, mean_squared_error\n",
    "\n",
    "mae = mean_absolute_error(predicted_df['ytrue'], predicted_df['yhat'])\n",
    "rmse = mean_squared_error(predicted_df['ytrue'], predicted_df['yhat'], squared=False)\n",
    "print(f\"MAE: {mae:.2f}\")\n",
    "print(f\"RMSE: {rmse:.2f}\")\n"
   ]
  },
  {
   "cell_type": "markdown",
   "id": "6d6db8fa",
   "metadata": {},
   "source": [
    "### Cross Validation with Prophet\n",
    "Find the \"best\" parameters by testing over various periods of time with those parameters (cross-validation)."
   ]
  },
  {
   "cell_type": "code",
   "execution_count": 33,
   "id": "6b69749d",
   "metadata": {},
   "outputs": [
    {
     "name": "stdout",
     "output_type": "stream",
     "text": [
      "2024-02-24\n",
      "2023-12-01 00:00:00 2024-02-24 23:40:00\n"
     ]
    }
   ],
   "source": [
    "print(forecast_start_date)\n",
    "print(fcst_prophet_train['ds'].min(), fcst_prophet_train['ds'].max())\n"
   ]
  },
  {
   "cell_type": "code",
   "execution_count": 34,
   "id": "098d398c",
   "metadata": {
    "scrolled": true
   },
   "outputs": [
    {
     "name": "stderr",
     "output_type": "stream",
     "text": [
      "17:10:37 - cmdstanpy - INFO - Chain [1] start processing\n",
      "17:10:37 - cmdstanpy - INFO - Chain [1] done processing\n",
      "  0%|          | 0/11 [00:00<?, ?it/s]17:10:38 - cmdstanpy - INFO - Chain [1] start processing\n",
      "17:10:38 - cmdstanpy - INFO - Chain [1] done processing\n",
      "  9%|▉         | 1/11 [00:00<00:02,  4.29it/s]17:10:38 - cmdstanpy - INFO - Chain [1] start processing\n",
      "17:10:38 - cmdstanpy - INFO - Chain [1] done processing\n",
      " 18%|█▊        | 2/11 [00:00<00:02,  3.81it/s]17:10:38 - cmdstanpy - INFO - Chain [1] start processing\n",
      "17:10:38 - cmdstanpy - INFO - Chain [1] done processing\n",
      " 27%|██▋       | 3/11 [00:00<00:02,  3.40it/s]17:10:39 - cmdstanpy - INFO - Chain [1] start processing\n",
      "17:10:39 - cmdstanpy - INFO - Chain [1] done processing\n",
      " 36%|███▋      | 4/11 [00:01<00:02,  2.97it/s]17:10:39 - cmdstanpy - INFO - Chain [1] start processing\n",
      "17:10:39 - cmdstanpy - INFO - Chain [1] done processing\n",
      " 45%|████▌     | 5/11 [00:01<00:02,  2.83it/s]17:10:39 - cmdstanpy - INFO - Chain [1] start processing\n",
      "17:10:40 - cmdstanpy - INFO - Chain [1] done processing\n",
      " 55%|█████▍    | 6/11 [00:02<00:01,  2.59it/s]17:10:40 - cmdstanpy - INFO - Chain [1] start processing\n",
      "17:10:40 - cmdstanpy - INFO - Chain [1] done processing\n",
      " 64%|██████▎   | 7/11 [00:02<00:01,  2.39it/s]17:10:40 - cmdstanpy - INFO - Chain [1] start processing\n",
      "17:10:40 - cmdstanpy - INFO - Chain [1] done processing\n",
      " 73%|███████▎  | 8/11 [00:03<00:01,  2.22it/s]17:10:41 - cmdstanpy - INFO - Chain [1] start processing\n",
      "17:10:41 - cmdstanpy - INFO - Chain [1] done processing\n",
      " 82%|████████▏ | 9/11 [00:03<00:01,  1.91it/s]17:10:42 - cmdstanpy - INFO - Chain [1] start processing\n",
      "17:10:42 - cmdstanpy - INFO - Chain [1] done processing\n",
      " 91%|█████████ | 10/11 [00:04<00:00,  1.57it/s]17:10:42 - cmdstanpy - INFO - Chain [1] start processing\n",
      "17:10:43 - cmdstanpy - INFO - Chain [1] done processing\n",
      "100%|██████████| 11/11 [00:05<00:00,  1.94it/s]\n"
     ]
    }
   ],
   "source": [
    "# Initialize and train the Prophet model\n",
    "m = Prophet()\n",
    "m.fit(train_set)\n",
    "\n",
    "# Cross-validation parameters\n",
    "initial = '10 days'  \n",
    "period = '7 day'    \n",
    "horizon = '1 day'  \n",
    "\n",
    "df_cv = cross_validation(m, initial=initial, period=period, horizon=horizon)\n",
    "\n",
    "\n",
    "# short-term forecast accuracy is critical."
   ]
  },
  {
   "cell_type": "code",
   "execution_count": 35,
   "id": "47037b5b",
   "metadata": {},
   "outputs": [
    {
     "name": "stdout",
     "output_type": "stream",
     "text": [
      "                   ds  yhat  yhat_lower  yhat_upper    y              cutoff\n",
      "0 2023-12-15 00:00:00 -0.87       -7.49        6.07 1.00 2023-12-14 23:40:00\n",
      "1 2023-12-15 00:20:00 -1.25       -7.56        5.99 2.00 2023-12-14 23:40:00\n",
      "2 2023-12-15 00:40:00 -1.50       -8.42        5.36 3.00 2023-12-14 23:40:00\n",
      "3 2023-12-15 01:00:00 -1.58       -8.41        5.13 2.00 2023-12-14 23:40:00\n",
      "4 2023-12-15 01:20:00 -1.43       -8.30        5.68 3.00 2023-12-14 23:40:00\n",
      "                     ds  yhat  yhat_lower  yhat_upper    y              cutoff\n",
      "787 2024-02-23 22:20:00 -1.22       -8.61        6.22 0.00 2024-02-22 23:40:00\n",
      "788 2024-02-23 22:40:00 -1.61       -8.86        5.88 4.00 2024-02-22 23:40:00\n",
      "789 2024-02-23 23:00:00 -2.00       -9.40        5.74 1.00 2024-02-22 23:40:00\n",
      "790 2024-02-23 23:20:00 -2.39       -9.75        4.84 3.00 2024-02-22 23:40:00\n",
      "791 2024-02-23 23:40:00 -2.76      -10.02        4.79 1.00 2024-02-22 23:40:00\n",
      "2023-12-15 00:00:00 2024-02-23 23:40:00\n"
     ]
    }
   ],
   "source": [
    "print(df_cv.head())\n",
    "print(df_cv.tail())\n",
    "print(df_cv['ds'].min(), df_cv['ds'].max())\n"
   ]
  },
  {
   "cell_type": "code",
   "execution_count": 37,
   "id": "995be001",
   "metadata": {
    "scrolled": true
   },
   "outputs": [
    {
     "data": {
      "text/html": [
       "<div>\n",
       "<style scoped>\n",
       "    .dataframe tbody tr th:only-of-type {\n",
       "        vertical-align: middle;\n",
       "    }\n",
       "\n",
       "    .dataframe tbody tr th {\n",
       "        vertical-align: top;\n",
       "    }\n",
       "\n",
       "    .dataframe thead th {\n",
       "        text-align: right;\n",
       "    }\n",
       "</style>\n",
       "<table border=\"1\" class=\"dataframe\">\n",
       "  <thead>\n",
       "    <tr style=\"text-align: right;\">\n",
       "      <th></th>\n",
       "      <th>horizon</th>\n",
       "      <th>mse</th>\n",
       "      <th>rmse</th>\n",
       "      <th>mae</th>\n",
       "      <th>mdape</th>\n",
       "      <th>smape</th>\n",
       "      <th>coverage</th>\n",
       "    </tr>\n",
       "  </thead>\n",
       "  <tbody>\n",
       "    <tr>\n",
       "      <th>0</th>\n",
       "      <td>0 days 02:40:00</td>\n",
       "      <td>22.25</td>\n",
       "      <td>4.72</td>\n",
       "      <td>3.98</td>\n",
       "      <td>1.50</td>\n",
       "      <td>1.60</td>\n",
       "      <td>0.85</td>\n",
       "    </tr>\n",
       "    <tr>\n",
       "      <th>1</th>\n",
       "      <td>0 days 03:00:00</td>\n",
       "      <td>21.53</td>\n",
       "      <td>4.64</td>\n",
       "      <td>3.88</td>\n",
       "      <td>1.30</td>\n",
       "      <td>1.48</td>\n",
       "      <td>0.85</td>\n",
       "    </tr>\n",
       "    <tr>\n",
       "      <th>2</th>\n",
       "      <td>0 days 03:20:00</td>\n",
       "      <td>21.40</td>\n",
       "      <td>4.63</td>\n",
       "      <td>3.88</td>\n",
       "      <td>1.01</td>\n",
       "      <td>1.36</td>\n",
       "      <td>0.86</td>\n",
       "    </tr>\n",
       "    <tr>\n",
       "      <th>3</th>\n",
       "      <td>0 days 03:40:00</td>\n",
       "      <td>21.24</td>\n",
       "      <td>4.61</td>\n",
       "      <td>3.82</td>\n",
       "      <td>0.80</td>\n",
       "      <td>1.20</td>\n",
       "      <td>0.86</td>\n",
       "    </tr>\n",
       "    <tr>\n",
       "      <th>4</th>\n",
       "      <td>0 days 04:00:00</td>\n",
       "      <td>20.88</td>\n",
       "      <td>4.57</td>\n",
       "      <td>3.75</td>\n",
       "      <td>0.60</td>\n",
       "      <td>1.02</td>\n",
       "      <td>0.86</td>\n",
       "    </tr>\n",
       "  </tbody>\n",
       "</table>\n",
       "</div>"
      ],
      "text/plain": [
       "          horizon   mse  rmse  mae  mdape  smape  coverage\n",
       "0 0 days 02:40:00 22.25  4.72 3.98   1.50   1.60      0.85\n",
       "1 0 days 03:00:00 21.53  4.64 3.88   1.30   1.48      0.85\n",
       "2 0 days 03:20:00 21.40  4.63 3.88   1.01   1.36      0.86\n",
       "3 0 days 03:40:00 21.24  4.61 3.82   0.80   1.20      0.86\n",
       "4 0 days 04:00:00 20.88  4.57 3.75   0.60   1.02      0.86"
      ]
     },
     "execution_count": 37,
     "metadata": {},
     "output_type": "execute_result"
    }
   ],
   "source": [
    "df_p = performance_metrics(df_cv)\n",
    "df_p.head()\n",
    "\n"
   ]
  },
  {
   "cell_type": "code",
   "execution_count": 38,
   "id": "4d4e8f46",
   "metadata": {},
   "outputs": [
    {
     "data": {
      "text/html": [
       "<div>\n",
       "<style scoped>\n",
       "    .dataframe tbody tr th:only-of-type {\n",
       "        vertical-align: middle;\n",
       "    }\n",
       "\n",
       "    .dataframe tbody tr th {\n",
       "        vertical-align: top;\n",
       "    }\n",
       "\n",
       "    .dataframe thead th {\n",
       "        text-align: right;\n",
       "    }\n",
       "</style>\n",
       "<table border=\"1\" class=\"dataframe\">\n",
       "  <thead>\n",
       "    <tr style=\"text-align: right;\">\n",
       "      <th></th>\n",
       "      <th>horizon</th>\n",
       "      <th>mse</th>\n",
       "      <th>rmse</th>\n",
       "      <th>mae</th>\n",
       "      <th>mdape</th>\n",
       "      <th>smape</th>\n",
       "      <th>coverage</th>\n",
       "    </tr>\n",
       "  </thead>\n",
       "  <tbody>\n",
       "    <tr>\n",
       "      <th>60</th>\n",
       "      <td>0 days 22:40:00</td>\n",
       "      <td>20.51</td>\n",
       "      <td>4.53</td>\n",
       "      <td>3.66</td>\n",
       "      <td>0.56</td>\n",
       "      <td>0.85</td>\n",
       "      <td>0.90</td>\n",
       "    </tr>\n",
       "    <tr>\n",
       "      <th>61</th>\n",
       "      <td>0 days 23:00:00</td>\n",
       "      <td>20.31</td>\n",
       "      <td>4.51</td>\n",
       "      <td>3.61</td>\n",
       "      <td>0.57</td>\n",
       "      <td>0.90</td>\n",
       "      <td>0.90</td>\n",
       "    </tr>\n",
       "    <tr>\n",
       "      <th>62</th>\n",
       "      <td>0 days 23:20:00</td>\n",
       "      <td>18.84</td>\n",
       "      <td>4.34</td>\n",
       "      <td>3.42</td>\n",
       "      <td>0.71</td>\n",
       "      <td>0.95</td>\n",
       "      <td>0.91</td>\n",
       "    </tr>\n",
       "    <tr>\n",
       "      <th>63</th>\n",
       "      <td>0 days 23:40:00</td>\n",
       "      <td>18.64</td>\n",
       "      <td>4.32</td>\n",
       "      <td>3.37</td>\n",
       "      <td>0.71</td>\n",
       "      <td>1.01</td>\n",
       "      <td>0.91</td>\n",
       "    </tr>\n",
       "    <tr>\n",
       "      <th>64</th>\n",
       "      <td>1 days 00:00:00</td>\n",
       "      <td>17.90</td>\n",
       "      <td>4.23</td>\n",
       "      <td>3.36</td>\n",
       "      <td>0.78</td>\n",
       "      <td>1.12</td>\n",
       "      <td>0.92</td>\n",
       "    </tr>\n",
       "  </tbody>\n",
       "</table>\n",
       "</div>"
      ],
      "text/plain": [
       "           horizon   mse  rmse  mae  mdape  smape  coverage\n",
       "60 0 days 22:40:00 20.51  4.53 3.66   0.56   0.85      0.90\n",
       "61 0 days 23:00:00 20.31  4.51 3.61   0.57   0.90      0.90\n",
       "62 0 days 23:20:00 18.84  4.34 3.42   0.71   0.95      0.91\n",
       "63 0 days 23:40:00 18.64  4.32 3.37   0.71   1.01      0.91\n",
       "64 1 days 00:00:00 17.90  4.23 3.36   0.78   1.12      0.92"
      ]
     },
     "execution_count": 38,
     "metadata": {},
     "output_type": "execute_result"
    }
   ],
   "source": [
    "df_p.tail()"
   ]
  },
  {
   "cell_type": "code",
   "execution_count": 39,
   "id": "0276859b",
   "metadata": {},
   "outputs": [
    {
     "data": {
      "image/png": "[encoded data removed]",
      "text/plain": [
       "<Figure size 1000x600 with 1 Axes>"
      ]
     },
     "metadata": {},
     "output_type": "display_data"
    }
   ],
   "source": [
    "plt.figure(figsize=(10, 6))\n",
    "plt.plot(df_p['horizon'], df_p['coverage'])\n",
    "plt.xlabel('Forecast Horizon')\n",
    "plt.ylabel('Coverage')\n",
    "plt.title('Predictive Interval Coverage Over Time')\n",
    "plt.axhline(y=0.8, color='r', linestyle='--')  # Assuming 80% predictive interval\n",
    "plt.show()\n"
   ]
  },
  {
   "cell_type": "code",
   "execution_count": null,
   "id": "81c9d869",
   "metadata": {},
   "outputs": [
    {
     "data": {
      "text/html": [
       "<div>\n",
       "<style scoped>\n",
       "    .dataframe tbody tr th:only-of-type {\n",
       "        vertical-align: middle;\n",
       "    }\n",
       "\n",
       "    .dataframe tbody tr th {\n",
       "        vertical-align: top;\n",
       "    }\n",
       "\n",
       "    .dataframe thead th {\n",
       "        text-align: right;\n",
       "    }\n",
       "</style>\n",
       "<table border=\"1\" class=\"dataframe\">\n",
       "  <thead>\n",
       "    <tr style=\"text-align: right;\">\n",
       "      <th></th>\n",
       "      <th>ds</th>\n",
       "      <th>yhat</th>\n",
       "      <th>yhat_lower</th>\n",
       "      <th>yhat_upper</th>\n",
       "      <th>y</th>\n",
       "      <th>cutoff</th>\n",
       "      <th>mae</th>\n",
       "      <th>overestimate</th>\n",
       "    </tr>\n",
       "  </thead>\n",
       "  <tbody>\n",
       "    <tr>\n",
       "      <th>91</th>\n",
       "      <td>2023-12-22 06:20:00</td>\n",
       "      <td>24.06</td>\n",
       "      <td>17.29</td>\n",
       "      <td>31.30</td>\n",
       "      <td>40.00</td>\n",
       "      <td>2023-12-21 23:40:00</td>\n",
       "      <td>15.94</td>\n",
       "      <td>False</td>\n",
       "    </tr>\n",
       "    <tr>\n",
       "      <th>329</th>\n",
       "      <td>2024-01-12 13:40:00</td>\n",
       "      <td>30.37</td>\n",
       "      <td>23.20</td>\n",
       "      <td>37.35</td>\n",
       "      <td>15.00</td>\n",
       "      <td>2024-01-11 23:40:00</td>\n",
       "      <td>15.37</td>\n",
       "      <td>True</td>\n",
       "    </tr>\n",
       "    <tr>\n",
       "      <th>190</th>\n",
       "      <td>2023-12-29 15:20:00</td>\n",
       "      <td>30.15</td>\n",
       "      <td>23.48</td>\n",
       "      <td>37.29</td>\n",
       "      <td>45.00</td>\n",
       "      <td>2023-12-28 23:40:00</td>\n",
       "      <td>14.85</td>\n",
       "      <td>False</td>\n",
       "    </tr>\n",
       "    <tr>\n",
       "      <th>118</th>\n",
       "      <td>2023-12-22 15:20:00</td>\n",
       "      <td>33.61</td>\n",
       "      <td>27.05</td>\n",
       "      <td>40.73</td>\n",
       "      <td>19.00</td>\n",
       "      <td>2023-12-21 23:40:00</td>\n",
       "      <td>14.61</td>\n",
       "      <td>True</td>\n",
       "    </tr>\n",
       "    <tr>\n",
       "      <th>273</th>\n",
       "      <td>2024-01-05 19:00:00</td>\n",
       "      <td>19.20</td>\n",
       "      <td>12.49</td>\n",
       "      <td>26.17</td>\n",
       "      <td>5.00</td>\n",
       "      <td>2024-01-04 23:40:00</td>\n",
       "      <td>14.20</td>\n",
       "      <td>True</td>\n",
       "    </tr>\n",
       "    <tr>\n",
       "      <th>85</th>\n",
       "      <td>2023-12-22 04:20:00</td>\n",
       "      <td>13.04</td>\n",
       "      <td>6.33</td>\n",
       "      <td>19.60</td>\n",
       "      <td>27.00</td>\n",
       "      <td>2023-12-21 23:40:00</td>\n",
       "      <td>13.96</td>\n",
       "      <td>False</td>\n",
       "    </tr>\n",
       "    <tr>\n",
       "      <th>665</th>\n",
       "      <td>2024-02-16 05:40:00</td>\n",
       "      <td>10.30</td>\n",
       "      <td>2.33</td>\n",
       "      <td>17.76</td>\n",
       "      <td>24.00</td>\n",
       "      <td>2024-02-15 23:40:00</td>\n",
       "      <td>13.70</td>\n",
       "      <td>False</td>\n",
       "    </tr>\n",
       "    <tr>\n",
       "      <th>660</th>\n",
       "      <td>2024-02-16 04:00:00</td>\n",
       "      <td>1.97</td>\n",
       "      <td>-5.39</td>\n",
       "      <td>9.57</td>\n",
       "      <td>15.00</td>\n",
       "      <td>2024-02-15 23:40:00</td>\n",
       "      <td>13.03</td>\n",
       "      <td>False</td>\n",
       "    </tr>\n",
       "    <tr>\n",
       "      <th>187</th>\n",
       "      <td>2023-12-29 14:20:00</td>\n",
       "      <td>28.00</td>\n",
       "      <td>20.86</td>\n",
       "      <td>34.17</td>\n",
       "      <td>15.00</td>\n",
       "      <td>2023-12-28 23:40:00</td>\n",
       "      <td>13.00</td>\n",
       "      <td>True</td>\n",
       "    </tr>\n",
       "    <tr>\n",
       "      <th>713</th>\n",
       "      <td>2024-02-16 21:40:00</td>\n",
       "      <td>-4.76</td>\n",
       "      <td>-12.29</td>\n",
       "      <td>3.12</td>\n",
       "      <td>8.00</td>\n",
       "      <td>2024-02-15 23:40:00</td>\n",
       "      <td>12.76</td>\n",
       "      <td>False</td>\n",
       "    </tr>\n",
       "  </tbody>\n",
       "</table>\n",
       "</div>"
      ],
      "text/plain": [
       "                     ds  yhat  yhat_lower  yhat_upper     y  \\\n",
       "91  2023-12-22 06:20:00 24.06       17.29       31.30 40.00   \n",
       "329 2024-01-12 13:40:00 30.37       23.20       37.35 15.00   \n",
       "190 2023-12-29 15:20:00 30.15       23.48       37.29 45.00   \n",
       "118 2023-12-22 15:20:00 33.61       27.05       40.73 19.00   \n",
       "273 2024-01-05 19:00:00 19.20       12.49       26.17  5.00   \n",
       "85  2023-12-22 04:20:00 13.04        6.33       19.60 27.00   \n",
       "665 2024-02-16 05:40:00 10.30        2.33       17.76 24.00   \n",
       "660 2024-02-16 04:00:00  1.97       -5.39        9.57 15.00   \n",
       "187 2023-12-29 14:20:00 28.00       20.86       34.17 15.00   \n",
       "713 2024-02-16 21:40:00 -4.76      -12.29        3.12  8.00   \n",
       "\n",
       "                 cutoff   mae  overestimate  \n",
       "91  2023-12-21 23:40:00 15.94         False  \n",
       "329 2024-01-11 23:40:00 15.37          True  \n",
       "190 2023-12-28 23:40:00 14.85         False  \n",
       "118 2023-12-21 23:40:00 14.61          True  \n",
       "273 2024-01-04 23:40:00 14.20          True  \n",
       "85  2023-12-21 23:40:00 13.96         False  \n",
       "665 2024-02-15 23:40:00 13.70         False  \n",
       "660 2024-02-15 23:40:00 13.03         False  \n",
       "187 2023-12-28 23:40:00 13.00          True  \n",
       "713 2024-02-15 23:40:00 12.76         False  "
      ]
     },
     "execution_count": 41,
     "metadata": {},
     "output_type": "execute_result"
    }
   ],
   "source": [
    "df_cv['mae'] = abs(df_cv['y'] - df_cv['yhat'])\n",
    "df_cv['overestimate'] = df_cv['yhat'] > df_cv['y']\n",
    "df_cv.sort_values('mae', ascending=False).head(10)"
   ]
  },
  {
   "cell_type": "code",
   "execution_count": 43,
   "id": "7d38c04f",
   "metadata": {},
   "outputs": [],
   "source": [
    "#df_cv"
   ]
  },
  {
   "cell_type": "code",
   "execution_count": 44,
   "id": "5f9771cb",
   "metadata": {},
   "outputs": [
    {
     "name": "stdout",
     "output_type": "stream",
     "text": [
      "Train set shape: (6120, 2)\n",
      "merchant_id                  ds    y\n",
      "0           2023-12-01 00:00:00 1.00\n",
      "1           2023-12-01 00:20:00 4.00\n",
      "2           2023-12-01 00:40:00 2.00\n",
      "3           2023-12-01 01:00:00 1.00\n",
      "4           2023-12-01 01:20:00 1.00\n",
      "Cross-validation results:                    ds  yhat  yhat_lower  yhat_upper    y              cutoff  \\\n",
      "0 2023-12-15 00:00:00 -0.87       -7.49        6.07 1.00 2023-12-14 23:40:00   \n",
      "1 2023-12-15 00:20:00 -1.25       -7.56        5.99 2.00 2023-12-14 23:40:00   \n",
      "2 2023-12-15 00:40:00 -1.50       -8.42        5.36 3.00 2023-12-14 23:40:00   \n",
      "3 2023-12-15 01:00:00 -1.58       -8.41        5.13 2.00 2023-12-14 23:40:00   \n",
      "4 2023-12-15 01:20:00 -1.43       -8.30        5.68 3.00 2023-12-14 23:40:00   \n",
      "\n",
      "   mae  overestimate  \n",
      "0 1.87         False  \n",
      "1 3.25         False  \n",
      "2 4.50         False  \n",
      "3 3.58         False  \n",
      "4 4.43         False  \n",
      "Performance metrics:           horizon   mse  rmse  mae  mdape  smape  coverage\n",
      "0 0 days 02:40:00 22.25  4.72 3.98   1.50   1.60      0.85\n",
      "1 0 days 03:00:00 21.53  4.64 3.88   1.30   1.48      0.85\n",
      "2 0 days 03:20:00 21.40  4.63 3.88   1.01   1.36      0.86\n",
      "3 0 days 03:40:00 21.24  4.61 3.82   0.80   1.20      0.86\n",
      "4 0 days 04:00:00 20.88  4.57 3.75   0.60   1.02      0.86\n"
     ]
    }
   ],
   "source": [
    "# print(\"Train set shape:\", train_set.shape)\n",
    "# print(train_set.head())\n",
    "# print(\"Cross-validation results:\", df_cv.head())\n",
    "# print(\"Performance metrics:\", df_p.head())\n"
   ]
  },
  {
   "cell_type": "code",
   "execution_count": 45,
   "id": "d520fc3b",
   "metadata": {},
   "outputs": [],
   "source": [
    "#here"
   ]
  },
  {
   "cell_type": "markdown",
   "id": "179ebe5c",
   "metadata": {},
   "source": [
    "Optimizing for merchant_5.  <b>  hypertune the model! </b>"
   ]
  },
  {
   "cell_type": "code",
   "execution_count": 46,
   "id": "c8a87989",
   "metadata": {},
   "outputs": [
    {
     "name": "stderr",
     "output_type": "stream",
     "text": [
      "17:10:44 - cmdstanpy - INFO - Chain [1] start processing\n",
      "17:10:44 - cmdstanpy - INFO - Chain [1] done processing\n",
      "17:10:51 - cmdstanpy - INFO - Chain [1] start processing\n",
      "17:10:51 - cmdstanpy - INFO - Chain [1] done processing\n",
      "17:10:55 - cmdstanpy - INFO - Chain [1] start processing\n",
      "17:10:56 - cmdstanpy - INFO - Chain [1] done processing\n",
      "17:11:01 - cmdstanpy - INFO - Chain [1] start processing\n",
      "17:11:01 - cmdstanpy - INFO - Chain [1] done processing\n",
      "17:11:06 - cmdstanpy - INFO - Chain [1] start processing\n",
      "17:11:07 - cmdstanpy - INFO - Chain [1] done processing\n",
      "17:11:11 - cmdstanpy - INFO - Chain [1] start processing\n",
      "17:11:11 - cmdstanpy - INFO - Chain [1] done processing\n",
      "17:11:16 - cmdstanpy - INFO - Chain [1] start processing\n",
      "17:11:16 - cmdstanpy - INFO - Chain [1] done processing\n",
      "17:11:21 - cmdstanpy - INFO - Chain [1] start processing\n",
      "17:11:22 - cmdstanpy - INFO - Chain [1] done processing\n",
      "17:11:26 - cmdstanpy - INFO - Chain [1] start processing\n",
      "17:11:27 - cmdstanpy - INFO - Chain [1] done processing\n",
      "17:11:33 - cmdstanpy - INFO - Chain [1] start processing\n",
      "17:11:34 - cmdstanpy - INFO - Chain [1] done processing\n",
      "17:11:41 - cmdstanpy - INFO - Chain [1] start processing\n",
      "17:11:42 - cmdstanpy - INFO - Chain [1] done processing\n",
      "17:11:50 - cmdstanpy - INFO - Chain [1] start processing\n",
      "17:11:51 - cmdstanpy - INFO - Chain [1] done processing\n",
      "17:11:59 - cmdstanpy - INFO - Chain [1] start processing\n",
      "17:12:00 - cmdstanpy - INFO - Chain [1] done processing\n",
      "17:12:11 - cmdstanpy - INFO - Chain [1] start processing\n",
      "17:12:13 - cmdstanpy - INFO - Chain [1] done processing\n",
      "17:12:23 - cmdstanpy - INFO - Chain [1] start processing\n",
      "17:12:25 - cmdstanpy - INFO - Chain [1] done processing\n",
      "17:12:37 - cmdstanpy - INFO - Chain [1] start processing\n",
      "17:12:38 - cmdstanpy - INFO - Chain [1] done processing\n"
     ]
    }
   ],
   "source": [
    "param_grid = {  \n",
    "    'changepoint_prior_scale': [0.001, 0.01, 0.1, 0.5],\n",
    "    'seasonality_prior_scale': [0.01, 0.1, 1.0, 10.0]\n",
    "}\n",
    "\n",
    "# Generate all combinations of parameters\n",
    "all_params = [dict(zip(param_grid.keys(), v)) for v in itertools.product(*param_grid.values())]\n",
    "rmses = [] \n",
    "\n",
    "# Use cross validation to evaluate all parameters\n",
    "for params in all_params:\n",
    "    m = Prophet(**params).fit(train_set)  # Fit model with given params\n",
    "    df_cv = cross_validation(m, initial='10 days', period='7 days', horizon = '1 days', parallel='processes')\n",
    "    df_p = performance_metrics(df_cv, rolling_window=1)\n",
    "    rmses.append(df_p['rmse'].values[0])\n",
    "\n",
    "# Find the best parameters\n",
    "tuning_results = pd.DataFrame(all_params)\n",
    "tuning_results['rmse'] = rmses\n",
    "\n"
   ]
  },
  {
   "cell_type": "code",
   "execution_count": 47,
   "id": "6ef1f8df",
   "metadata": {},
   "outputs": [
    {
     "data": {
      "text/html": [
       "<div>\n",
       "<style scoped>\n",
       "    .dataframe tbody tr th:only-of-type {\n",
       "        vertical-align: middle;\n",
       "    }\n",
       "\n",
       "    .dataframe tbody tr th {\n",
       "        vertical-align: top;\n",
       "    }\n",
       "\n",
       "    .dataframe thead th {\n",
       "        text-align: right;\n",
       "    }\n",
       "</style>\n",
       "<table border=\"1\" class=\"dataframe\">\n",
       "  <thead>\n",
       "    <tr style=\"text-align: right;\">\n",
       "      <th></th>\n",
       "      <th>horizon</th>\n",
       "      <th>mse</th>\n",
       "      <th>rmse</th>\n",
       "      <th>mae</th>\n",
       "      <th>mdape</th>\n",
       "      <th>smape</th>\n",
       "      <th>coverage</th>\n",
       "    </tr>\n",
       "  </thead>\n",
       "  <tbody>\n",
       "    <tr>\n",
       "      <th>0</th>\n",
       "      <td>1 days</td>\n",
       "      <td>28.07</td>\n",
       "      <td>5.30</td>\n",
       "      <td>4.31</td>\n",
       "      <td>0.28</td>\n",
       "      <td>0.55</td>\n",
       "      <td>0.82</td>\n",
       "    </tr>\n",
       "  </tbody>\n",
       "</table>\n",
       "</div>"
      ],
      "text/plain": [
       "  horizon   mse  rmse  mae  mdape  smape  coverage\n",
       "0  1 days 28.07  5.30 4.31   0.28   0.55      0.82"
      ]
     },
     "execution_count": 47,
     "metadata": {},
     "output_type": "execute_result"
    }
   ],
   "source": [
    "df_p\n"
   ]
  },
  {
   "cell_type": "code",
   "execution_count": 48,
   "id": "d9deb5b1",
   "metadata": {},
   "outputs": [
    {
     "name": "stdout",
     "output_type": "stream",
     "text": [
      "    changepoint_prior_scale  seasonality_prior_scale  rmse\n",
      "0                      0.00                     0.01  5.12\n",
      "1                      0.00                     0.10  5.26\n",
      "2                      0.00                     1.00  5.26\n",
      "3                      0.00                    10.00  5.28\n",
      "4                      0.01                     0.01  5.14\n",
      "5                      0.01                     0.10  5.29\n",
      "6                      0.01                     1.00  5.30\n",
      "7                      0.01                    10.00  5.29\n",
      "8                      0.10                     0.01  5.15\n",
      "9                      0.10                     0.10  5.30\n",
      "10                     0.10                     1.00  5.30\n",
      "11                     0.10                    10.00  5.30\n",
      "12                     0.50                     0.01  5.13\n",
      "13                     0.50                     0.10  5.29\n",
      "14                     0.50                     1.00  5.29\n",
      "15                     0.50                    10.00  5.30\n"
     ]
    }
   ],
   "source": [
    "print(tuning_results)"
   ]
  },
  {
   "cell_type": "code",
   "execution_count": 49,
   "id": "4d437a39",
   "metadata": {
    "scrolled": true
   },
   "outputs": [
    {
     "data": {
      "text/html": [
       "<div>\n",
       "<style scoped>\n",
       "    .dataframe tbody tr th:only-of-type {\n",
       "        vertical-align: middle;\n",
       "    }\n",
       "\n",
       "    .dataframe tbody tr th {\n",
       "        vertical-align: top;\n",
       "    }\n",
       "\n",
       "    .dataframe thead th {\n",
       "        text-align: right;\n",
       "    }\n",
       "</style>\n",
       "<table border=\"1\" class=\"dataframe\">\n",
       "  <thead>\n",
       "    <tr style=\"text-align: right;\">\n",
       "      <th></th>\n",
       "      <th>changepoint_prior_scale</th>\n",
       "      <th>seasonality_prior_scale</th>\n",
       "      <th>rmse</th>\n",
       "    </tr>\n",
       "  </thead>\n",
       "  <tbody>\n",
       "    <tr>\n",
       "      <th>0</th>\n",
       "      <td>0.00</td>\n",
       "      <td>0.01</td>\n",
       "      <td>5.12</td>\n",
       "    </tr>\n",
       "    <tr>\n",
       "      <th>12</th>\n",
       "      <td>0.50</td>\n",
       "      <td>0.01</td>\n",
       "      <td>5.13</td>\n",
       "    </tr>\n",
       "    <tr>\n",
       "      <th>4</th>\n",
       "      <td>0.01</td>\n",
       "      <td>0.01</td>\n",
       "      <td>5.14</td>\n",
       "    </tr>\n",
       "    <tr>\n",
       "      <th>8</th>\n",
       "      <td>0.10</td>\n",
       "      <td>0.01</td>\n",
       "      <td>5.15</td>\n",
       "    </tr>\n",
       "    <tr>\n",
       "      <th>2</th>\n",
       "      <td>0.00</td>\n",
       "      <td>1.00</td>\n",
       "      <td>5.26</td>\n",
       "    </tr>\n",
       "    <tr>\n",
       "      <th>1</th>\n",
       "      <td>0.00</td>\n",
       "      <td>0.10</td>\n",
       "      <td>5.26</td>\n",
       "    </tr>\n",
       "    <tr>\n",
       "      <th>3</th>\n",
       "      <td>0.00</td>\n",
       "      <td>10.00</td>\n",
       "      <td>5.28</td>\n",
       "    </tr>\n",
       "    <tr>\n",
       "      <th>5</th>\n",
       "      <td>0.01</td>\n",
       "      <td>0.10</td>\n",
       "      <td>5.29</td>\n",
       "    </tr>\n",
       "    <tr>\n",
       "      <th>13</th>\n",
       "      <td>0.50</td>\n",
       "      <td>0.10</td>\n",
       "      <td>5.29</td>\n",
       "    </tr>\n",
       "    <tr>\n",
       "      <th>14</th>\n",
       "      <td>0.50</td>\n",
       "      <td>1.00</td>\n",
       "      <td>5.29</td>\n",
       "    </tr>\n",
       "    <tr>\n",
       "      <th>7</th>\n",
       "      <td>0.01</td>\n",
       "      <td>10.00</td>\n",
       "      <td>5.29</td>\n",
       "    </tr>\n",
       "    <tr>\n",
       "      <th>15</th>\n",
       "      <td>0.50</td>\n",
       "      <td>10.00</td>\n",
       "      <td>5.30</td>\n",
       "    </tr>\n",
       "    <tr>\n",
       "      <th>11</th>\n",
       "      <td>0.10</td>\n",
       "      <td>10.00</td>\n",
       "      <td>5.30</td>\n",
       "    </tr>\n",
       "    <tr>\n",
       "      <th>9</th>\n",
       "      <td>0.10</td>\n",
       "      <td>0.10</td>\n",
       "      <td>5.30</td>\n",
       "    </tr>\n",
       "    <tr>\n",
       "      <th>10</th>\n",
       "      <td>0.10</td>\n",
       "      <td>1.00</td>\n",
       "      <td>5.30</td>\n",
       "    </tr>\n",
       "    <tr>\n",
       "      <th>6</th>\n",
       "      <td>0.01</td>\n",
       "      <td>1.00</td>\n",
       "      <td>5.30</td>\n",
       "    </tr>\n",
       "  </tbody>\n",
       "</table>\n",
       "</div>"
      ],
      "text/plain": [
       "    changepoint_prior_scale  seasonality_prior_scale  rmse\n",
       "0                      0.00                     0.01  5.12\n",
       "12                     0.50                     0.01  5.13\n",
       "4                      0.01                     0.01  5.14\n",
       "8                      0.10                     0.01  5.15\n",
       "2                      0.00                     1.00  5.26\n",
       "1                      0.00                     0.10  5.26\n",
       "3                      0.00                    10.00  5.28\n",
       "5                      0.01                     0.10  5.29\n",
       "13                     0.50                     0.10  5.29\n",
       "14                     0.50                     1.00  5.29\n",
       "7                      0.01                    10.00  5.29\n",
       "15                     0.50                    10.00  5.30\n",
       "11                     0.10                    10.00  5.30\n",
       "9                      0.10                     0.10  5.30\n",
       "10                     0.10                     1.00  5.30\n",
       "6                      0.01                     1.00  5.30"
      ]
     },
     "execution_count": 49,
     "metadata": {},
     "output_type": "execute_result"
    }
   ],
   "source": [
    "tuning_results.sort_values('rmse')"
   ]
  },
  {
   "cell_type": "code",
   "execution_count": 50,
   "id": "a6301bbd",
   "metadata": {},
   "outputs": [
    {
     "data": {
      "text/plain": [
       "changepoint_prior_scale   0.00\n",
       "seasonality_prior_scale   0.01\n",
       "rmse                      5.12\n",
       "Name: 0, dtype: float64"
      ]
     },
     "execution_count": 50,
     "metadata": {},
     "output_type": "execute_result"
    }
   ],
   "source": [
    "tuning_results.sort_values('rmse').reset_index(drop=True).iloc[0]"
   ]
  },
  {
   "cell_type": "code",
   "execution_count": 51,
   "id": "f72687cd",
   "metadata": {},
   "outputs": [
    {
     "data": {
      "text/plain": [
       "{'changepoint_prior_scale': 0.001,\n",
       " 'seasonality_prior_scale': 0.01,\n",
       " 'rmse': 5.122603853861617}"
      ]
     },
     "execution_count": 51,
     "metadata": {},
     "output_type": "execute_result"
    }
   ],
   "source": [
    "dict(tuning_results.sort_values('rmse').reset_index(drop=True).iloc[0])"
   ]
  },
  {
   "cell_type": "code",
   "execution_count": 52,
   "id": "5b0410d5",
   "metadata": {},
   "outputs": [],
   "source": [
    "params_dictionary = dict(tuning_results.sort_values('rmse').reset_index(drop=True).drop('rmse',axis='columns').iloc[0])\n",
    "\n",
    "m = Prophet(changepoint_prior_scale = params_dictionary['changepoint_prior_scale'], \n",
    "            seasonality_prior_scale = params_dictionary['seasonality_prior_scale'])\n"
   ]
  },
  {
   "cell_type": "code",
   "execution_count": 53,
   "id": "1ed288dd",
   "metadata": {},
   "outputs": [
    {
     "name": "stdout",
     "output_type": "stream",
     "text": [
      "Index(['ds', 'ytrue'], dtype='object')\n"
     ]
    }
   ],
   "source": [
    "print(df_copy.columns)\n"
   ]
  },
  {
   "cell_type": "code",
   "execution_count": 54,
   "id": "c1a29b9b",
   "metadata": {
    "scrolled": true
   },
   "outputs": [
    {
     "name": "stderr",
     "output_type": "stream",
     "text": [
      "17:12:49 - cmdstanpy - INFO - Chain [1] start processing\n",
      "17:12:49 - cmdstanpy - INFO - Chain [1] done processing\n"
     ]
    },
    {
     "data": {
      "text/plain": [
       "5.0654168142943305"
      ]
     },
     "execution_count": 54,
     "metadata": {},
     "output_type": "execute_result"
    }
   ],
   "source": [
    "m.fit(train_set)\n",
    "\n",
    "future = m.make_future_dataframe(periods=prediction_days * 72, freq='20min')\n",
    "fcst_prophet_train = m.predict(future)\n",
    "\n",
    "#adding filter to only add the forecasted data into predicted_df\n",
    "filter = fcst_prophet_train['ds']>=forecast_start_date \n",
    "predicted_df = fcst_prophet_train[filter][['ds','yhat']]\n",
    "\n",
    "df_copy = df.copy()\n",
    "df_copy.columns = ['ds', 'ytrue']\n",
    "predicted_df = predicted_df.merge(df_copy)\n",
    "#mape(predicted_df['ytrue'], predicted_df['yhat'])\n",
    "np.sqrt(np.mean((predicted_df['ytrue'] - predicted_df['yhat'])**2))\n",
    "\n"
   ]
  },
  {
   "cell_type": "code",
   "execution_count": 55,
   "id": "99bc0240",
   "metadata": {},
   "outputs": [],
   "source": [
    "#predicted_df"
   ]
  },
  {
   "cell_type": "code",
   "execution_count": 56,
   "id": "b72d457b",
   "metadata": {},
   "outputs": [],
   "source": [
    "# import matplotlib.pyplot as plt\n",
    "\n",
    "# # Assuming the previous steps have been done correctly and predicted_df is ready\n",
    "# # Make sure to run this after the RMSE calculation and the merging step\n",
    "\n",
    "# # Plot the results\n",
    "# plt.figure(figsize=(14, 7))  # Set the size of the plot\n",
    "\n",
    "# # Plot actual values\n",
    "# plt.plot(predicted_df['ds'], predicted_df['ytrue'], label='Actual', color='blue', marker='o', linestyle='-', alpha=0.6)\n",
    "\n",
    "# # Plot predicted values\n",
    "# plt.plot(predicted_df['ds'], predicted_df['yhat'], label='Predicted', color='red', linestyle='-', alpha=0.8)\n",
    "\n",
    "# # Add title and labels with more descriptive text including RMSE value\n",
    "# rmse = np.sqrt(np.mean((predicted_df['ytrue'] - predicted_df['yhat'])**2))\n",
    "# plt.title(f'Actual vs Predicted Orders (RMSE: {rmse:.2f})')\n",
    "# plt.xlabel('Date')\n",
    "# plt.ylabel('Order Quantity')\n",
    "\n",
    "# # Add a legend to the plot\n",
    "# plt.legend()\n",
    "\n",
    "# # Add a grid for easier visualization\n",
    "# plt.grid(True)\n",
    "\n",
    "# # Rotate the date labels for better readability\n",
    "# plt.xticks(rotation=45)\n",
    "\n",
    "# # Use tight_layout to automatically adjust subplot params for the plot to fit into th\n"
   ]
  },
  {
   "cell_type": "code",
   "execution_count": 57,
   "id": "f1f1fe36",
   "metadata": {},
   "outputs": [
    {
     "name": "stdout",
     "output_type": "stream",
     "text": [
      "MAE: 3.97\n",
      "RMSE: 5.07\n"
     ]
    },
    {
     "name": "stderr",
     "output_type": "stream",
     "text": [
      "c:\\Users\\Nourhan\\AppData\\Local\\Programs\\Python\\Python311\\Lib\\site-packages\\sklearn\\metrics\\_regression.py:492: FutureWarning: 'squared' is deprecated in version 1.4 and will be removed in 1.6. To calculate the root mean squared error, use the function'root_mean_squared_error'.\n",
      "  warnings.warn(\n"
     ]
    }
   ],
   "source": [
    "from sklearn.metrics import mean_absolute_error, mean_squared_error\n",
    "\n",
    "# Calculate additional metrics\n",
    "mae = mean_absolute_error(predicted_df['ytrue'], predicted_df['yhat'])\n",
    "rmse = mean_squared_error(predicted_df['ytrue'], predicted_df['yhat'], squared=False)\n",
    "print(f\"MAE: {mae:.2f}\")\n",
    "print(f\"RMSE: {rmse:.2f}\")\n"
   ]
  },
  {
   "cell_type": "code",
   "execution_count": 58,
   "id": "10a4576e",
   "metadata": {},
   "outputs": [],
   "source": [
    "# # Plotting the results\n",
    "# plt.figure(figsize=(14, 7))  # Adjust the figure size as needed\n",
    "\n",
    "# # Plot actual values\n",
    "# plt.plot(predicted_df['ds'], predicted_df['ytrue'], label='Actual', color='blue', marker='o', linestyle='-', alpha=0.6)\n",
    "\n",
    "# # Plot predicted values\n",
    "# plt.plot(predicted_df['ds'], predicted_df['yhat'], label='Predicted', color='red', linestyle='-', alpha=0.8)\n",
    "\n",
    "# # Add title and labels\n",
    "# plt.title('Actual vs Predicted Orders')\n",
    "# plt.xlabel('Timestamp')\n",
    "# plt.ylabel('Number of Orders')\n",
    "\n",
    "# # Add legend\n",
    "# plt.legend()\n",
    "\n",
    "# # Add grid\n",
    "# plt.grid(True)\n",
    "\n",
    "# # Rotate x-axis labels for better readability\n",
    "# plt.xticks(rotation=45)\n",
    "\n",
    "# # Adjust layout\n",
    "# plt.tight_layout()\n",
    "\n",
    "# # Show plot"
   ]
  },
  {
   "cell_type": "code",
   "execution_count": 59,
   "id": "4b22657f",
   "metadata": {},
   "outputs": [],
   "source": [
    "# import numpy as np\n",
    "\n",
    "# # Example DataFrame for expanded visualization\n",
    "# data = {\n",
    "#     'ds': pd.date_range(start='2024-01-01', periods=100, freq='D'),\n",
    "#     'ytrue': np.random.rand(100) * 100,\n",
    "#     'yhat': np.random.rand(100) * 100\n",
    "# }\n",
    "# predicted_df = pd.DataFrame(data)\n",
    "\n",
    "# # Ensure 'ds' column is datetime\n",
    "# predicted_df['ds'] = pd.to_datetime(predicted_df['ds'])\n",
    "\n",
    "# # Plot actual vs predicted values\n",
    "# plt.figure(figsize=(10, 6))\n",
    "# plt.plot(predicted_df['ds'], predicted_df['ytrue'], label='Actual', marker='o')\n",
    "# plt.plot(predicted_df['ds'], predicted_df['yhat'], label='Predicted', marker='x')\n",
    "# plt.xlabel('Date')\n",
    "# plt.ylabel('Order Count')\n",
    "# plt.title('Actual vs Predicted Order Counts')\n",
    "# plt.legend()\n",
    "# plt.show()\n"
   ]
  },
  {
   "cell_type": "code",
   "execution_count": 60,
   "id": "7dc01f7b",
   "metadata": {},
   "outputs": [],
   "source": [
    "# import matplotlib.pyplot as plt\n",
    "\n",
    "# # Plot actual vs predicted values\n",
    "# plt.figure(figsize=(10, 6))\n",
    "# plt.plot(predicted_df['ds'], predicted_df['ytrue'], label='Actual')\n",
    "# plt.plot(predicted_df['ds'], predicted_df['yhat'], label='Predicted')\n",
    "# plt.xlabel('Date')\n",
    "# plt.ylabel('Order Count')\n",
    "# plt.title('Actual vs Predicted Order Counts')\n",
    "# plt.legend()\n",
    "# plt.show()\n"
   ]
  },
  {
   "cell_type": "code",
   "execution_count": 61,
   "id": "a3766d97",
   "metadata": {},
   "outputs": [],
   "source": [
    "# # Calculate residuals\n",
    "# predicted_df['residual'] = predicted_df['ytrue'] - predicted_df['yhat']\n",
    "\n",
    "# # Plot residuals\n",
    "# plt.figure(figsize=(10, 6))\n",
    "# plt.plot(predicted_df['ds'], predicted_df['residual'])\n",
    "# plt.xlabel('Date')\n",
    "# plt.ylabel('Residual')\n",
    "# plt.title('Residuals Over Time')\n",
    "# plt.show()\n"
   ]
  },
  {
   "cell_type": "code",
   "execution_count": 62,
   "id": "bc94d91c",
   "metadata": {},
   "outputs": [],
   "source": [
    "# import matplotlib.pyplot as plt\n",
    "\n",
    "# # Calculate residuals\n",
    "# predicted_df['residual'] = predicted_df['ytrue'] - predicted_df['yhat']\n",
    "\n",
    "# # Plot residuals using scatter plot\n",
    "# plt.figure(figsize=(10, 6))\n",
    "# plt.scatter(predicted_df['ds'], predicted_df['residual'], color='blue')  # using scatter here\n",
    "# plt.xlabel('Date')\n",
    "# plt.ylabel('Residual')\n",
    "# plt.title('Residuals Over Time')\n",
    "# plt.axhline(0, color='red', linestyle='--')  # Adds a horizontal line at zero to indicate no residual\n",
    "# plt.show()\n"
   ]
  }
 ],
 "metadata": {
  "kernelspec": {
   "display_name": "Python 3 (ipykernel)",
   "language": "python",
   "name": "python3"
  },
  "language_info": {
   "codemirror_mode": {
    "name": "ipython",
    "version": 3
   },
   "file_extension": ".py",
   "mimetype": "text/x-python",
   "name": "python",
   "nbconvert_exporter": "python",
   "pygments_lexer": "ipython3",
   "version": "3.11.3"
  }
 },
 "nbformat": 4,
 "nbformat_minor": 5
}
